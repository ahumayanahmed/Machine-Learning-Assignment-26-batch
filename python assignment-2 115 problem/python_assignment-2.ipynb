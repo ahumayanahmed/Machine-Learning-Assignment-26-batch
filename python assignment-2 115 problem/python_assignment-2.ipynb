{
 "cells": [
  {
   "cell_type": "markdown",
   "id": "aab69f61",
   "metadata": {},
   "source": [
    "## 1. Variable Swap\n",
    "\n",
    "**Question:** Write a Python program to swap the values of two variables without using a temporary variable.\n",
    "\n",
    "\n"
   ]
  },
  {
   "cell_type": "code",
   "execution_count": 2,
   "id": "f97f14f2",
   "metadata": {},
   "outputs": [
    {
     "name": "stdout",
     "output_type": "stream",
     "text": [
      "\n",
      "Before swapping: a = 4 , b = 3\n",
      "After swapping: a = 3 , b = 4\n"
     ]
    }
   ],
   "source": [
    "a = input('Enter value for a: ')\n",
    "b = input('Enter value for b: ')\n",
    "print('\\nBefore swapping: a =', a, ', b =', b)\n",
    "# swap\n",
    "a, b = b, a\n",
    "print('After swapping: a =', a, ', b =', b)\n"
   ]
  },
  {
   "cell_type": "markdown",
   "id": "4f29d2cd",
   "metadata": {},
   "source": [
    "## 2. Even or Odd\n",
    "\n",
    "**Question:** Write a Python program that takes an integer as input and prints whether it is even or odd.\n"
   ]
  },
  {
   "cell_type": "code",
   "execution_count": 21,
   "id": "29e8e4d7",
   "metadata": {},
   "outputs": [
    {
     "name": "stdout",
     "output_type": "stream",
     "text": [
      "Enter Number: 4\n",
      "4 is Even\n"
     ]
    }
   ],
   "source": [
    "# Even or Odd checker\n",
    "n = int(input('Enter an integer: '))\n",
    "print(\"Enter Number:\",n)\n",
    "if n % 2 == 0:\n",
    "    print(n, 'is Even')\n",
    "else:\n",
    "    print(n, 'is Odd')\n"
   ]
  },
  {
   "cell_type": "markdown",
   "id": "9ff65054",
   "metadata": {},
   "source": [
    "## 3. String Reverse\n",
    "\n",
    "**Question:** Write a Python function to reverse a given string and return the reversed string.\n",
    "\n",
    "\n"
   ]
  },
  {
   "cell_type": "code",
   "execution_count": 20,
   "id": "f3e23d46",
   "metadata": {},
   "outputs": [
    {
     "name": "stdout",
     "output_type": "stream",
     "text": [
      "Enter a string: humayan\n",
      "Reversed string: nayamuh\n"
     ]
    }
   ],
   "source": [
    "def reverse_string(s: str) -> str:\n",
    "  \n",
    "    return s[::-1]\n",
    "\n",
    "s = input('Enter a string: ')\n",
    "print(\"Enter a string:\",s)\n",
    "print('Reversed string:', reverse_string(s))\n"
   ]
  },
  {
   "cell_type": "markdown",
   "id": "c98cf9a2",
   "metadata": {},
   "source": [
    "## 4. Type Conversion\n",
    "\n",
    "**Question:** Given a list of integers, write a Python program to convert each element of the list to a string.\n",
    "\n",
    "\n"
   ]
  },
  {
   "cell_type": "code",
   "execution_count": 19,
   "id": "c32f21d6",
   "metadata": {},
   "outputs": [
    {
     "name": "stdout",
     "output_type": "stream",
     "text": [
      "Enter integers: [4, 5, 6, 2, 3]\n",
      "List of strings: ['4', '5', '6', '2', '3']\n"
     ]
    }
   ],
   "source": [
    "nums_str = input('Enter integers separated by space: ').strip().split()\n",
    "nums = [int(x) for x in nums_str]\n",
    "str_list = [str(x) for x in nums]\n",
    "print(\"Enter integers:\",nums)\n",
    "print('List of strings:', str_list)\n"
   ]
  },
  {
   "cell_type": "markdown",
   "id": "8e6d5895",
   "metadata": {},
   "source": [
    "## 5. Temperature Converter\n",
    "\n",
    "**Question:** Write a Python program that converts a temperature in Celsius to Fahrenheit. Take the Celsius temperature as input from the user.\n",
    "\n"
   ]
  },
  {
   "cell_type": "code",
   "execution_count": 13,
   "id": "1cf94f0b",
   "metadata": {},
   "outputs": [
    {
     "name": "stdout",
     "output_type": "stream",
     "text": [
      "2.0 °C = 35.6 °F\n"
     ]
    }
   ],
   "source": [
    "c = float(input('Enter temperature in Celsius: '))\n",
    "f = c * 9/5 + 32\n",
    "print(f'{c} °C = {f} °F')\n"
   ]
  },
  {
   "cell_type": "markdown",
   "id": "2e38342f",
   "metadata": {},
   "source": [
    "## 6. Data Type Checker\n",
    "\n",
    "**Question:** Write a Python function that takes a variable as input and returns the data type of the variable as a string (e.g., 'int', 'float', 'str', 'list', etc.).\n",
    "\n"
   ]
  },
  {
   "cell_type": "code",
   "execution_count": null,
   "id": "6424d76a",
   "metadata": {},
   "outputs": [],
   "source": []
  },
  {
   "cell_type": "markdown",
   "id": "b494e893",
   "metadata": {},
   "source": [
    "## 7. String Palindrome\n",
    "\n",
    "**Question:** Write a Python function to check if a given string is a palindrome or not.\n",
    "\n"
   ]
  },
  {
   "cell_type": "code",
   "execution_count": 18,
   "id": "bf6b1851",
   "metadata": {},
   "outputs": [
    {
     "name": "stdout",
     "output_type": "stream",
     "text": [
      "String: aba\n",
      "Palindrome\n"
     ]
    }
   ],
   "source": [
    "def is_palindrome(s: str) -> bool:\n",
    "    s_clean = ''.join(ch.lower() for ch in s if ch.isalnum())\n",
    "    return s_clean == s_clean[::-1]\n",
    "\n",
    "s = 'aba'\n",
    "print(\"String:\", s)\n",
    "print('Palindrome' if is_palindrome(s) else 'Not a palindrome')\n"
   ]
  },
  {
   "cell_type": "markdown",
   "id": "de77b63d",
   "metadata": {},
   "source": [
    "## 8. String Reversal with Slicing\n",
    "\n",
    "**Question:** Write a Python function to reverse a given string using slicing.\n",
    "\n"
   ]
  },
  {
   "cell_type": "code",
   "execution_count": 23,
   "id": "c67e4067",
   "metadata": {},
   "outputs": [
    {
     "name": "stdout",
     "output_type": "stream",
     "text": [
      "Input string: humayan\n",
      "Reversed (slicing): nayamuh\n"
     ]
    }
   ],
   "source": [
    "s = input('Enter a string: ')\n",
    "print(\"Input string:\",s)\n",
    "print('Reversed (slicing):', s[::-1])\n"
   ]
  },
  {
   "cell_type": "markdown",
   "id": "b220e3f4",
   "metadata": {},
   "source": [
    "## 9. String Concatenation\n",
    "\n",
    "**Question:** Write a Python program that takes two strings as input and concatenates them into a single string without using the `+` operator.\n",
    "\n"
   ]
  },
  {
   "cell_type": "code",
   "execution_count": null,
   "id": "b5376444",
   "metadata": {},
   "outputs": [
    {
     "name": "stdout",
     "output_type": "stream",
     "text": [
      "Enter first string: Humayan  & Enter second string: Ahmed\n",
      "Concatenated string: Humayan Ahmed\n"
     ]
    }
   ],
   "source": [
    "s1 = input('Enter first string: ')\n",
    "s2 = input('Enter second string: ')\n",
    "result = ''.join([s1, s2])\n",
    "print(f\"Enter first string: {s1} & Enter second string: {s2}\")\n",
    "print('Concatenated string:', result)\n"
   ]
  },
  {
   "cell_type": "markdown",
   "id": "58c180ef",
   "metadata": {},
   "source": [
    "## 10. Typecasting Challenge\n",
    "\n",
    "**Question:** Given three variables: `a = '100'`, `b = 25`, and `c = '10.5'`, write a Python program to perform the following operations and print the results:\n",
    "- Convert `a` to an integer and add it to `b`.\n",
    "- Convert `c` to a float and subtract it from the result of the first operation.\n",
    "- Convert the final result to a string and concatenate it with the string \" is the answer.\"\n",
    "\n",
    "\n"
   ]
  },
  {
   "cell_type": "code",
   "execution_count": 28,
   "id": "8b53035c",
   "metadata": {},
   "outputs": [
    {
     "name": "stdout",
     "output_type": "stream",
     "text": [
      "Step1 (int(a)+b) = 125\n",
      "Step2 (res1 - float(c)) = 114.5\n",
      "Final string: 114.5 is the answer.\n"
     ]
    }
   ],
   "source": [
    "a = '100'\n",
    "b = 25\n",
    "c = '10.5'\n",
    "res1 = int(a) + b\n",
    "res2 = res1 - float(c)\n",
    "final_str = str(res2) + ' is the answer.'\n",
    "print('Step1 (int(a)+b) =', res1)\n",
    "print('Step2 (res1 - float(c)) =', res2)\n",
    "print('Final string:', final_str)\n"
   ]
  },
  {
   "cell_type": "markdown",
   "id": "d9851a94",
   "metadata": {},
   "source": [
    "## 11. Positive, Negative, or Zero\n",
    "\n",
    "**Question:**  Write a Python program that takes a number as input and prints whether it is positive, negative, or zero.\n",
    "\n"
   ]
  },
  {
   "cell_type": "code",
   "execution_count": 29,
   "id": "57fa7b7b",
   "metadata": {},
   "outputs": [
    {
     "name": "stdout",
     "output_type": "stream",
     "text": [
      "Enter Number: 5.0\n",
      "Positive\n"
     ]
    }
   ],
   "source": [
    "n = float(input('Enter a number: '))\n",
    "print(\"Enter Number:\",n)\n",
    "if n > 0:\n",
    "    print('Positive')\n",
    "elif n < 0:\n",
    "    print('Negative')\n",
    "else:\n",
    "    print('Zero')\n"
   ]
  },
  {
   "cell_type": "markdown",
   "id": "898fdcde",
   "metadata": {},
   "source": [
    "## 12. Largest of Three Numbers\n",
    "\n",
    "**Question:** Write a Python program that takes three numbers as input and prints the largest among them.\n",
    "\n",
    "\n"
   ]
  },
  {
   "cell_type": "code",
   "execution_count": 32,
   "id": "c9fa56b3",
   "metadata": {},
   "outputs": [
    {
     "name": "stdout",
     "output_type": "stream",
     "text": [
      "a is : 2\n",
      "b is : 5\n",
      "c is : 3\n",
      "Largest is 5\n"
     ]
    }
   ],
   "source": [
    "a = int(input('Enter first number: '))\n",
    "b = int(input('Enter second number: '))\n",
    "c = int(input('Enter third number: '))\n",
    "print(f'a is : {a}')\n",
    "print(f'b is : {b}')\n",
    "print(f'c is : {c}')\n",
    "largest = a\n",
    "if b > largest:\n",
    "    largest = b\n",
    "if c > largest:\n",
    "    largest = c\n",
    "print('Largest is', largest)\n"
   ]
  },
  {
   "cell_type": "markdown",
   "id": "8e16d20f",
   "metadata": {},
   "source": [
    "## 13. Leap Year Checker\n",
    "\n",
    "**Question:** Write a Python program that takes a year as input and determines if it is a leap year or not.\n",
    "\n",
    "\n"
   ]
  },
  {
   "cell_type": "code",
   "execution_count": 2,
   "id": "af92a17a",
   "metadata": {},
   "outputs": [
    {
     "name": "stdout",
     "output_type": "stream",
     "text": [
      "Year:  2028\n",
      "2028 is a leap year\n"
     ]
    }
   ],
   "source": [
    "year = int(input('Enter year: '))\n",
    "print(\"Year: \",year)\n",
    "if (year % 4 == 0 and year % 100 != 0) or (year % 400 == 0):\n",
    "    print(year, 'is a leap year')\n",
    "else:\n",
    "    print(year, 'is not a leap year')\n"
   ]
  },
  {
   "cell_type": "markdown",
   "id": "abbb62ab",
   "metadata": {},
   "source": [
    "## 14. Grades Classification\n",
    "\n",
    "**Question:** Write a Python program that takes a student’s percentage as input and prints their corresponding grade according to the following criteria: – 90% or above: A+ – 80-89%: A – 70-79%: B – 60-69%: C – Below 60%: Fail\n"
   ]
  },
  {
   "cell_type": "code",
   "execution_count": 11,
   "id": "7ec575f9",
   "metadata": {},
   "outputs": [
    {
     "name": "stdout",
     "output_type": "stream",
     "text": [
      "Number 50.0\n",
      "Grade: Fail\n"
     ]
    }
   ],
   "source": [
    "perc = float(input('Enter percentage (0-100): '))\n",
    "print('Number', perc)\n",
    "if perc >= 90:\n",
    "    grade = 'A+'\n",
    "elif perc >= 80:\n",
    "    grade = 'A'\n",
    "elif perc >= 70:\n",
    "    grade = 'B'\n",
    "elif perc >= 60:\n",
    "    grade = 'C'\n",
    "else:\n",
    "    grade = 'Fail'\n",
    "print('Grade:', grade)\n"
   ]
  },
  {
   "cell_type": "markdown",
   "id": "f1d94fd7",
   "metadata": {},
   "source": [
    "## 15. Vowel or Consonant\n",
    "\n",
    "**Question:** Write a Python program that takes a single character as input and determines whether it is a vowel or a consonant.\n",
    "\n",
    "\n"
   ]
  },
  {
   "cell_type": "code",
   "execution_count": 16,
   "id": "34a1efd0",
   "metadata": {},
   "outputs": [
    {
     "name": "stdout",
     "output_type": "stream",
     "text": [
      "Alphabet: h\n",
      "h is a consonant.\n"
     ]
    }
   ],
   "source": [
    "ch = input('Enter a single alphabet character: ').strip().lower()\n",
    "print(\"Alphabet:\" ,ch)\n",
    "if len(ch) != 1 or not ch.isalpha():\n",
    "    print('Please enter a single alphabet character.')\n",
    "else:\n",
    "    if ch in 'aeiou':\n",
    "        print(ch, 'is a vowel.')\n",
    "    else:\n",
    "        print(ch, 'is a consonant.')\n"
   ]
  },
  {
   "cell_type": "markdown",
   "id": "85590273",
   "metadata": {},
   "source": [
    "## 16. Time Classification\n",
    "\n",
    "**Question:** Write a Python program that takes the time in hours (24-hour format) as input and prints “Good Morning”, “Good Afternoon”, “Good Evening”, or “Good Night” based on the time.\n"
   ]
  },
  {
   "cell_type": "code",
   "execution_count": 17,
   "id": "0582b8e7",
   "metadata": {},
   "outputs": [
    {
     "name": "stdout",
     "output_type": "stream",
     "text": [
      "Houres: 17\n",
      "Good Evening\n"
     ]
    }
   ],
   "source": [
    "h = int(input('Enter hour (0-23): '))\n",
    "print(\"Houres:\", h)\n",
    "if 5 <= h < 12:\n",
    "    print('Good Morning')\n",
    "elif 12 <= h < 17:\n",
    "    print('Good Afternoon')\n",
    "elif 17 <= h < 21:\n",
    "    print('Good Evening')\n",
    "else:\n",
    "    print('Good Night')\n"
   ]
  },
  {
   "cell_type": "markdown",
   "id": "876fce92",
   "metadata": {},
   "source": [
    "## 17. Triangle Type Checker\n",
    "\n",
    "**Question:** Write a Python program that takes three sides of a triangle as input and determines whether it forms an equilateral, isosceles, or scalene triangle.\n",
    "\n"
   ]
  },
  {
   "cell_type": "code",
   "execution_count": 18,
   "id": "9abe9db0",
   "metadata": {},
   "outputs": [
    {
     "name": "stdout",
     "output_type": "stream",
     "text": [
      "a is 4.0\n",
      "b is 5.0\n",
      "c is 6.0\n",
      "Scalene triangle\n"
     ]
    }
   ],
   "source": [
    "a = float(input('Side a: '))\n",
    "b = float(input('Side b: '))\n",
    "c = float(input('Side c: '))\n",
    "print(f'a is {a}')\n",
    "print(f'b is {b}')\n",
    "print(f'c is {c}')\n",
    "if a + b <= c or a + c <= b or b + c <= a:\n",
    "    print('Not a valid triangle')\n",
    "else:\n",
    "    if a == b == c:\n",
    "        print('Equilateral triangle')\n",
    "    elif a == b or b == c or a == c:\n",
    "        print('Isosceles triangle')\n",
    "    else:\n",
    "        print('Scalene triangle')\n"
   ]
  },
  {
   "cell_type": "markdown",
   "id": "480bd572",
   "metadata": {},
   "source": [
    "## 18. Quadratic Equation Solver\n",
    "\n",
    "**Question:** Write a Python program that takes the coefficients (a, b, c) of a quadratic equation as input and calculates and prints the real roots (if they exist) or a message indicating the complex roots.\n",
    "\n",
    "\n"
   ]
  },
  {
   "cell_type": "code",
   "execution_count": 26,
   "id": "9ffc1272",
   "metadata": {},
   "outputs": [
    {
     "name": "stdout",
     "output_type": "stream",
     "text": [
      "a is 4.0\n",
      "b is 8.0\n",
      "c is 2.0\n",
      "Discriminant is 32.0\n",
      "Two real roots r1 is -0.2928932188134524 &  r2 is -1.7071067811865475\n"
     ]
    }
   ],
   "source": [
    "import math\n",
    "a = float(input('Enter coefficient a: '))\n",
    "b = float(input('Enter coefficient b: '))\n",
    "c = float(input('Enter coefficient c: '))\n",
    "print(f'a is {a}')\n",
    "print(f'b is {b}')\n",
    "print(f'c is {c}')\n",
    "if a == 0:\n",
    "    print('Not a quadratic equation (a==0).')\n",
    "else:\n",
    "    d = b**2 - 4*a*c\n",
    "    print(f'Discriminant is {d}')\n",
    "    if d > 0:\n",
    "        r1 = (-b + math.sqrt(d)) / (2*a)\n",
    "        r2 = (-b - math.sqrt(d)) / (2*a)\n",
    "        print(f'Two real roots r1 is {r1} &  r2 is {r2}')\n",
    "    elif d == 0:\n",
    "        r = -b / (2*a)\n",
    "        print('One real root:', r)\n",
    "    else:\n",
    "        real = -b / (2*a)\n",
    "        imag = math.sqrt(-d) / (2*a)\n",
    "        print(f'Complex roots: {real}+{imag}j and {real}-{imag}j')\n"
   ]
  },
  {
   "cell_type": "markdown",
   "id": "21a06eed",
   "metadata": {},
   "source": [
    "## 19. Number Ranges\n",
    "\n",
    "**Question:** Write a Python program that takes an integer as input and prints whether the number falls within the ranges: 0-50, 51-100, 101-150, or above 150.\n",
    "\n"
   ]
  },
  {
   "cell_type": "code",
   "execution_count": 27,
   "id": "0f4100ff",
   "metadata": {},
   "outputs": [
    {
     "name": "stdout",
     "output_type": "stream",
     "text": [
      "Number 2\n",
      "0-50\n"
     ]
    }
   ],
   "source": [
    "n = int(input('Enter an integer: '))\n",
    "print( 'Number',n)\n",
    "if 0 <= n <= 50:\n",
    "    print('0-50')\n",
    "elif 51 <= n <= 100:\n",
    "    print('51-100')\n",
    "elif 101 <= n <= 150:\n",
    "    print('101-150')\n",
    "elif n > 150:\n",
    "    print('Above 150')\n",
    "else:\n",
    "    print('Below 0')\n"
   ]
  },
  {
   "cell_type": "markdown",
   "id": "d2a47c47",
   "metadata": {},
   "source": [
    "## 20. Sum of N Numbers\n",
    "\n",
    "**Question:** Write a Python program using a for loop to calculate the sum of the first N natural numbers, where N is taken as input from the user.\n",
    "\n",
    "\n"
   ]
  },
  {
   "cell_type": "code",
   "execution_count": 28,
   "id": "0a6168e9",
   "metadata": {},
   "outputs": [
    {
     "name": "stdout",
     "output_type": "stream",
     "text": [
      "Number 3\n",
      "Sum of first 3 natural numbers is 6\n"
     ]
    }
   ],
   "source": [
    "N = int(input('Enter N (positive integer): '))\n",
    "print('Number',N)\n",
    "total = 0\n",
    "for i in range(1, N+1):\n",
    "    total += i\n",
    "print('Sum of first', N, 'natural numbers is', total)\n"
   ]
  },
  {
   "cell_type": "markdown",
   "id": "07fa1672",
   "metadata": {},
   "source": [
    "## 21. Factorial Calculator (while)\n",
    "\n",
    "**Question:** Write a Python program using a while loop to calculate the factorial of a given number N.\n",
    "\n"
   ]
  },
  {
   "cell_type": "code",
   "execution_count": 29,
   "id": "645b892f",
   "metadata": {},
   "outputs": [
    {
     "name": "stdout",
     "output_type": "stream",
     "text": [
      "Number 2\n",
      "Factorial of 2 is 2\n"
     ]
    }
   ],
   "source": [
    "n = int(input('Enter a non-negative integer: '))\n",
    "print(\"Number\",n)\n",
    "if n < 0:\n",
    "    print('Factorial not defined for negative numbers.')\n",
    "else:\n",
    "    fact = 1\n",
    "    i = 1\n",
    "    while i <= n:\n",
    "        fact *= i\n",
    "        i += 1\n",
    "    print(f'Factorial of {n} is {fact}')\n"
   ]
  },
  {
   "cell_type": "markdown",
   "id": "9a9b215e",
   "metadata": {},
   "source": [
    "## 22. Table of a Number\n",
    "\n",
    "**Question:** Write a Python program using a for loop to print the multiplication table of a given number N.\n",
    "\n",
    "\n"
   ]
  },
  {
   "cell_type": "code",
   "execution_count": 33,
   "id": "b001c198",
   "metadata": {},
   "outputs": [
    {
     "name": "stdout",
     "output_type": "stream",
     "text": [
      "Number 1\n",
      "1 x 1 = 1\n",
      "1 x 2 = 2\n",
      "1 x 3 = 3\n",
      "1 x 4 = 4\n",
      "1 x 5 = 5\n",
      "1 x 6 = 6\n",
      "1 x 7 = 7\n",
      "1 x 8 = 8\n",
      "1 x 9 = 9\n",
      "1 x 10 = 10\n"
     ]
    }
   ],
   "source": [
    "n = int(input('Enter an integer: '))\n",
    "print(\"Number\",n)\n",
    "for i in range(1, 11):\n",
    "    print(f'{n} x {i} = {n*i}')\n"
   ]
  },
  {
   "cell_type": "markdown",
   "id": "0c5f8278",
   "metadata": {},
   "source": [
    "## 23. Count Digits in a Number\n",
    "\n",
    "**Question:** Write a Python program using a while loop to count the number of digits in a given integer N.\n",
    "\n"
   ]
  },
  {
   "cell_type": "code",
   "execution_count": 36,
   "id": "e564efaa",
   "metadata": {},
   "outputs": [
    {
     "name": "stdout",
     "output_type": "stream",
     "text": [
      "Input Number:  1\n",
      "Number of digits: 1\n"
     ]
    }
   ],
   "source": [
    "n = int(input('Enter an integer (again for accurate count): '))\n",
    "print(\"Input Number: \",n)\n",
    "n_abs = abs(n)\n",
    "\n",
    "if n_abs == 0:\n",
    "    count = 1\n",
    "else:\n",
    "    count = 0\n",
    "    while n_abs > 0:\n",
    "        count += 1\n",
    "        n_abs //= 10\n",
    "\n",
    "print('Number of digits:', count)\n"
   ]
  },
  {
   "cell_type": "markdown",
   "id": "2a4cc281",
   "metadata": {},
   "source": [
    "## 24. Fibonacci Sequence\n",
    "\n",
    "**Question:** Write a Python program using a for loop to generate the Fibonacci sequence up to a given limit N.\n",
    "\n"
   ]
  },
  {
   "cell_type": "code",
   "execution_count": null,
   "id": "441fb5be",
   "metadata": {},
   "outputs": [
    {
     "name": "stdout",
     "output_type": "stream",
     "text": [
      "Input Number:  4\n",
      "Fibonacci sequence: [0, 1, 1, 2]\n"
     ]
    }
   ],
   "source": [
    "N = int(input('Enter number of terms (N): '))\n",
    "print(\"Input Number: \",N)\n",
    "if N <= 0:\n",
    "    print('Enter a positive integer')\n",
    "elif N == 1:\n",
    "    print('Fibonacci sequence: 0')\n",
    "else:\n",
    "    a, b = 0, 1\n",
    "    seq = [a, b]\n",
    "    for _ in range(2, N):\n",
    "        a, b = b, a + b\n",
    "        seq.append(b)\n",
    "    print('Fibonacci sequence:', seq)\n"
   ]
  },
  {
   "cell_type": "markdown",
   "id": "35184259",
   "metadata": {},
   "source": [
    "## 25. Sum of Even Numbers\n",
    "\n",
    "**Question:** Write a Python program using a while loop to calculate the sum of all even numbers between 1 and N, where N is taken as\n",
    "\n"
   ]
  },
  {
   "cell_type": "code",
   "execution_count": null,
   "id": "0b61083d",
   "metadata": {},
   "outputs": [
    {
     "name": "stdout",
     "output_type": "stream",
     "text": [
      "Number: 7\n",
      "Sum of even numbers between 1 and 7 is 12\n"
     ]
    }
   ],
   "source": [
    "N = int(input('Enter N: '))\n",
    "print('Number:', N)\n",
    "total = 0\n",
    "i = 2\n",
    "while i <= N:\n",
    "    total += i\n",
    "    i += 2\n",
    "print('Sum of even numbers between 1 and', N, 'is', total)\n"
   ]
  },
  {
   "cell_type": "markdown",
   "id": "dc00e776",
   "metadata": {},
   "source": [
    "## 26. Print Patterns\n",
    "\n",
    "**Question:** Write a Python program using nested for loops to print various patterns, such as a right-angled triangle, an inverted right-angled triangle, and so on.\n",
    "\n"
   ]
  },
  {
   "cell_type": "code",
   "execution_count": null,
   "id": "2afc37a5",
   "metadata": {},
   "outputs": [
    {
     "name": "stdout",
     "output_type": "stream",
     "text": [
      "Number: 4\n",
      "\n",
      "Right-angled triangle:\n",
      "*\n",
      "**\n",
      "***\n",
      "****\n",
      "\n",
      "Inverted right-angled triangle:\n",
      "****\n",
      "***\n",
      "**\n",
      "*\n"
     ]
    }
   ],
   "source": [
    "n = int(input('Enter size (n): '))\n",
    "print(\"Number:\",n)\n",
    "print('\\nRight-angled triangle:')\n",
    "for i in range(1, n+1):\n",
    "    print('*' * i)\n",
    "print('\\nInverted right-angled triangle:')\n",
    "for i in range(n, 0, -1):\n",
    "    print('*' * i)\n"
   ]
  },
  {
   "cell_type": "markdown",
   "id": "2c18f65b",
   "metadata": {},
   "source": [
    "## 27. Prime Number Checker (while)\n",
    "\n",
    "**Question:** Write a Python program using a while loop to check if a given number N is prime or not.\n",
    "\n"
   ]
  },
  {
   "cell_type": "code",
   "execution_count": null,
   "id": "999759d5",
   "metadata": {},
   "outputs": [],
   "source": [
    "\n",
    "n = int(input('Enter an integer (>1): '))\n",
    "if n <= 1:\n",
    "    print('Not prime')\n",
    "else:\n",
    "    i = 2\n",
    "    is_prime = True\n",
    "    while i * i <= n:\n",
    "        if n % i == 0:\n",
    "            is_prime = False\n",
    "            break\n",
    "        i += 1\n",
    "    print('Prime' if is_prime else 'Not prime')\n"
   ]
  },
  {
   "cell_type": "markdown",
   "id": "4046cca2",
   "metadata": {},
   "source": [
    "## 28. List Manipulation (sum, avg, max, min)\n",
    "\n",
    "**Question:** Given a list of integers, write a Python program using a for loop to find the sum, average, maximum, and minimum values in the list.\n",
    "\n"
   ]
  },
  {
   "cell_type": "code",
   "execution_count": 42,
   "id": "9f475902",
   "metadata": {},
   "outputs": [
    {
     "name": "stdout",
     "output_type": "stream",
     "text": [
      " Number: [1, 2, 4]\n",
      "Sum = 7 Average = 2.3333333333333335 Max = 4 Min = 1\n"
     ]
    }
   ],
   "source": [
    "arr = [int(x) for x in input('Enter integers separated by space: ').split()]\n",
    "print(\" Number:\",arr)\n",
    "if not arr:\n",
    "    print('Empty list')\n",
    "else:\n",
    "    s = 0\n",
    "    mx = arr[0]\n",
    "    mn = arr[0]\n",
    "    for v in arr:\n",
    "        s += v\n",
    "        if v > mx: mx = v\n",
    "        if v < mn: mn = v\n",
    "    avg = s / len(arr)\n",
    "    print('Sum =', s, 'Average =', avg, 'Max =', mx, 'Min =', mn)\n"
   ]
  },
  {
   "cell_type": "markdown",
   "id": "284b4f8f",
   "metadata": {},
   "source": [
    "## 29. Reverse String (while)\n",
    "\n",
    "**Question:** Write a Python program using a while loop to reverse a given string.\n"
   ]
  },
  {
   "cell_type": "code",
   "execution_count": 43,
   "id": "ac4b5b02",
   "metadata": {},
   "outputs": [
    {
     "name": "stdout",
     "output_type": "stream",
     "text": [
      "string: humayan\n",
      "Reversed string: nayamuh\n"
     ]
    }
   ],
   "source": [
    "s = input('Enter a string: ')\n",
    "print(\"string:\", s)\n",
    "res = ''\n",
    "i = len(s) - 1\n",
    "while i >= 0:\n",
    "    res += s[i]\n",
    "    i -= 1\n",
    "print('Reversed string:', res)\n"
   ]
  },
  {
   "cell_type": "markdown",
   "id": "830dcdb9",
   "metadata": {},
   "source": [
    "## 30. Multiplication Table (1 to 10)\n",
    "\n",
    "**Question:**  Write a Python program using nested loops to print the multiplication table from 1 to 10.\n",
    "\n"
   ]
  },
  {
   "cell_type": "code",
   "execution_count": 44,
   "id": "76afb746",
   "metadata": {},
   "outputs": [
    {
     "name": "stdout",
     "output_type": "stream",
     "text": [
      "1x1=1\t1x2=2\t1x3=3\t1x4=4\t1x5=5\t1x6=6\t1x7=7\t1x8=8\t1x9=9\t1x10=10\t\n",
      "2x1=2\t2x2=4\t2x3=6\t2x4=8\t2x5=10\t2x6=12\t2x7=14\t2x8=16\t2x9=18\t2x10=20\t\n",
      "3x1=3\t3x2=6\t3x3=9\t3x4=12\t3x5=15\t3x6=18\t3x7=21\t3x8=24\t3x9=27\t3x10=30\t\n",
      "4x1=4\t4x2=8\t4x3=12\t4x4=16\t4x5=20\t4x6=24\t4x7=28\t4x8=32\t4x9=36\t4x10=40\t\n",
      "5x1=5\t5x2=10\t5x3=15\t5x4=20\t5x5=25\t5x6=30\t5x7=35\t5x8=40\t5x9=45\t5x10=50\t\n",
      "6x1=6\t6x2=12\t6x3=18\t6x4=24\t6x5=30\t6x6=36\t6x7=42\t6x8=48\t6x9=54\t6x10=60\t\n",
      "7x1=7\t7x2=14\t7x3=21\t7x4=28\t7x5=35\t7x6=42\t7x7=49\t7x8=56\t7x9=63\t7x10=70\t\n",
      "8x1=8\t8x2=16\t8x3=24\t8x4=32\t8x5=40\t8x6=48\t8x7=56\t8x8=64\t8x9=72\t8x10=80\t\n",
      "9x1=9\t9x2=18\t9x3=27\t9x4=36\t9x5=45\t9x6=54\t9x7=63\t9x8=72\t9x9=81\t9x10=90\t\n",
      "10x1=10\t10x2=20\t10x3=30\t10x4=40\t10x5=50\t10x6=60\t10x7=70\t10x8=80\t10x9=90\t10x10=100\t\n"
     ]
    }
   ],
   "source": [
    "\n",
    "for i in range(1, 11):\n",
    "    for j in range(1, 11):\n",
    "        print(f'{i}x{j}={i*j}', end='\\t')\n",
    "    print()\n"
   ]
  },
  {
   "cell_type": "markdown",
   "id": "1bad4a99",
   "metadata": {},
   "source": [
    "## 31. Print Pattern (triangle of stars)\n",
    "\n",
    "**Question:** Write a Python program using nested loops to print the following pattern:\n"
   ]
  },
  {
   "cell_type": "code",
   "execution_count": 1,
   "id": "bf0be1de",
   "metadata": {},
   "outputs": [
    {
     "name": "stdout",
     "output_type": "stream",
     "text": [
      "*\n",
      "**\n",
      "***\n",
      "****\n",
      "*****\n"
     ]
    }
   ],
   "source": [
    "for i in range(1, 6):\n",
    "    print('*' * i)\n"
   ]
  },
  {
   "cell_type": "markdown",
   "id": "7856b671",
   "metadata": {},
   "source": [
    "## 32. Matrix Multiplication\n",
    "\n",
    "**Question:** Write a Python program using nested loops to multiply two matrices.\n"
   ]
  },
  {
   "cell_type": "code",
   "execution_count": 120,
   "id": "acc3a0df",
   "metadata": {},
   "outputs": [
    {
     "name": "stdout",
     "output_type": "stream",
     "text": [
      "Enter elements of first matrix row by row:\n",
      "Enter elements of second matrix row by row:\n",
      "Result of matrix multiplication:\n",
      "[14, 5]\n",
      "[23, 8]\n"
     ]
    }
   ],
   "source": [
    "\n",
    "rows1 = int(input(\"Enter number of rows in first matrix: \"))\n",
    "cols1 = int(input(\"Enter number of columns in first matrix: \"))\n",
    "rows2 = int(input(\"Enter number of rows in second matrix: \"))\n",
    "cols2 = int(input(\"Enter number of columns in second matrix: \"))\n",
    "\n",
    "\n",
    "if cols1 != rows2:\n",
    "    print(\"Matrix multiplication not possible! Number of columns in first matrix must equal number of rows in second matrix.\")\n",
    "    exit()\n",
    "\n",
    "\n",
    "print(\"Enter elements of first matrix row by row:\")\n",
    "matrix1 = []\n",
    "for i in range(rows1):\n",
    "    row = list(map(int, input(f\"Row {i+1}: \").split()))\n",
    "    matrix1.append(row)\n",
    "\n",
    "\n",
    "print(\"Enter elements of second matrix row by row:\")\n",
    "matrix2 = []\n",
    "for i in range(rows2):\n",
    "    row = list(map(int, input(f\"Row {i+1}: \").split()))\n",
    "    matrix2.append(row)\n",
    "\n",
    "\n",
    "result = [[0 for _ in range(cols2)] for _ in range(rows1)]\n",
    "\n",
    "\n",
    "for i in range(rows1):\n",
    "    for j in range(cols2):\n",
    "        for k in range(cols1):\n",
    "            result[i][j] += matrix1[i][k] * matrix2[k][j]\n",
    "\n",
    "\n",
    "print(\"Result of matrix multiplication:\")\n",
    "for row in result:\n",
    "    print(row)\n"
   ]
  },
  {
   "cell_type": "markdown",
   "id": "3b6786c5",
   "metadata": {},
   "source": [
    "## 33. Chessboard Pattern\n",
    "\n",
    "**Question:** Write a Python program using nested loops to print a chessboard pattern (alternating “X” and “O” characters) of size 8×8.34. Number Pyramid: Write a Python program using nested loops to print a number pyramid like the following: 1 22 333 4444 55555\n"
   ]
  },
  {
   "cell_type": "code",
   "execution_count": 2,
   "id": "74edbe6a",
   "metadata": {},
   "outputs": [
    {
     "name": "stdout",
     "output_type": "stream",
     "text": [
      "XOXOXOXO\n",
      "OXOXOXOX\n",
      "XOXOXOXO\n",
      "OXOXOXOX\n",
      "XOXOXOXO\n",
      "OXOXOXOX\n",
      "XOXOXOXO\n",
      "OXOXOXOX\n"
     ]
    }
   ],
   "source": [
    "n = 8\n",
    "for i in range(n):\n",
    "    row = ''\n",
    "    for j in range(n):\n",
    "        if (i + j) % 2 == 0:\n",
    "            row += 'X'\n",
    "        else:\n",
    "            row += 'O'\n",
    "    print(row)\n"
   ]
  },
  {
   "cell_type": "markdown",
   "id": "c1366b82",
   "metadata": {},
   "source": [
    "## 34. Number Pyramid\n",
    "\n",
    "**Question:**\n"
   ]
  },
  {
   "cell_type": "code",
   "execution_count": 3,
   "id": "6dc51ae3",
   "metadata": {},
   "outputs": [
    {
     "name": "stdout",
     "output_type": "stream",
     "text": [
      "1\n",
      "22\n",
      "333\n",
      "4444\n",
      "55555\n"
     ]
    }
   ],
   "source": [
    "for i in range(1, 6):\n",
    "    print(str(i) * i)\n"
   ]
  },
  {
   "cell_type": "markdown",
   "id": "11f56080",
   "metadata": {},
   "source": [
    "## 35. List Sum\n",
    "\n",
    "**Question:** Write a Python program to find the sum of all elements in a given list of integers."
   ]
  },
  {
   "cell_type": "code",
   "execution_count": 5,
   "id": "13a5f00d",
   "metadata": {},
   "outputs": [
    {
     "name": "stdout",
     "output_type": "stream",
     "text": [
      "[1, 2, 3]\n",
      "Sum = 6\n"
     ]
    }
   ],
   "source": [
    "arr = [int(x) for x in input('Enter integers separated by space: ').split()]\n",
    "print(arr)\n",
    "print('Sum =', sum(arr))\n"
   ]
  },
  {
   "cell_type": "markdown",
   "id": "f1af9141",
   "metadata": {},
   "source": [
    "## 36. List Average\n",
    "\n",
    "**Question:** Write a Python program to calculate the average of all elements in a given list of integers.  "
   ]
  },
  {
   "cell_type": "code",
   "execution_count": 6,
   "id": "5fd63292",
   "metadata": {},
   "outputs": [
    {
     "name": "stdout",
     "output_type": "stream",
     "text": [
      "[1, 2, 3]\n",
      "Average = 2.0\n"
     ]
    }
   ],
   "source": [
    "arr = [int(x) for x in input('Enter integers separated by space: ').split()]\n",
    "print(arr)\n",
    "if arr:\n",
    "    print('Average =', sum(arr)/len(arr))\n",
    "else:\n",
    "    print('Empty list')\n"
   ]
  },
  {
   "cell_type": "markdown",
   "id": "bb1b0ab1",
   "metadata": {},
   "source": [
    "## 37. List Max and Min\n",
    "\n",
    "**Question:** Write a Python program to find the maximum and minimum values in a given list of integers"
   ]
  },
  {
   "cell_type": "code",
   "execution_count": 7,
   "id": "c0b7851b",
   "metadata": {},
   "outputs": [
    {
     "name": "stdout",
     "output_type": "stream",
     "text": [
      "[1, 2, 3]\n",
      "Max = 3 Min = 1\n"
     ]
    }
   ],
   "source": [
    "arr = [int(x) for x in input('Enter integers separated by space: ').split()]\n",
    "print(arr)\n",
    "if not arr:\n",
    "    print('Empty list')\n",
    "else:\n",
    "    mx = mn = arr[0]\n",
    "    for v in arr:\n",
    "        if v > mx: mx = v\n",
    "        if v < mn: mn = v\n",
    "    print('Max =', mx, 'Min =', mn)\n"
   ]
  },
  {
   "cell_type": "markdown",
   "id": "aad4e846",
   "metadata": {},
   "source": [
    "## 38. List Sorting\n",
    "\n",
    "**Question:** Write a Python program to sort a list of integers in ascending order."
   ]
  },
  {
   "cell_type": "code",
   "execution_count": 8,
   "id": "bf3fb605",
   "metadata": {},
   "outputs": [
    {
     "name": "stdout",
     "output_type": "stream",
     "text": [
      "[1, 2, 3, 1, 8, 5]\n",
      "Sorted ascending: [1, 1, 2, 3, 5, 8]\n"
     ]
    }
   ],
   "source": [
    "arr = [int(x) for x in input('Enter integers separated by space: ').split()]\n",
    "print(arr)\n",
    "arr.sort()\n",
    "print('Sorted ascending:', arr)\n"
   ]
  },
  {
   "cell_type": "markdown",
   "id": "6a794a27",
   "metadata": {},
   "source": [
    "## 39. List Filtering (evens)\n",
    "\n",
    "**Question:** Given a list of integers, write a Python program to create a new list that contains only the even numbers from the original list.\n"
   ]
  },
  {
   "cell_type": "code",
   "execution_count": 9,
   "id": "d8a3f993",
   "metadata": {},
   "outputs": [
    {
     "name": "stdout",
     "output_type": "stream",
     "text": [
      "[1, 3, 2]\n",
      "Even numbers: [2]\n"
     ]
    }
   ],
   "source": [
    "arr = [int(x) for x in input('Enter integers separated by space: ').split()]\n",
    "print(arr)\n",
    "evens = [x for x in arr if x % 2 == 0]\n",
    "print('Even numbers:', evens)\n"
   ]
  },
  {
   "cell_type": "markdown",
   "id": "289f01ab",
   "metadata": {},
   "source": [
    "## 40. List Reversal (without built-ins)\n",
    "\n",
    "**Question:** Write a Python program to reverse a given list without using any built-in functions.\n"
   ]
  },
  {
   "cell_type": "code",
   "execution_count": 10,
   "id": "d61da649",
   "metadata": {},
   "outputs": [
    {
     "name": "stdout",
     "output_type": "stream",
     "text": [
      "[1, 2, 3]\n",
      "Reversed list: [3, 2, 1]\n"
     ]
    }
   ],
   "source": [
    "arr = [int(x) for x in input('Enter integers separated by space: ').split()]\n",
    "print(arr)\n",
    "rev = []\n",
    "for i in range(len(arr)-1, -1, -1):\n",
    "    rev.append(arr[i])\n",
    "print('Reversed list:', rev)\n"
   ]
  },
  {
   "cell_type": "markdown",
   "id": "2068786c",
   "metadata": {},
   "source": [
    "## 41. List Manipulation (common elements)\n",
    "\n",
    "**Question:** Given two lists of integers, write a Python program to create a new list that contains elements common to both lists.\n"
   ]
  },
  {
   "cell_type": "code",
   "execution_count": 2,
   "id": "6a3e83b4",
   "metadata": {},
   "outputs": [
    {
     "name": "stdout",
     "output_type": "stream",
     "text": [
      "a is [1, 2, 4]\n",
      "b is [1, 4, 6]\n",
      "Common elements (preserving A order): [1, 4]\n"
     ]
    }
   ],
   "source": [
    "a = [int(x) for x in input('Enter list A integers: ').split()]\n",
    "b = [int(x) for x in input('Enter list B integers: ').split()]\n",
    "print(f'a is {a}')\n",
    "print(f'b is {b}')\n",
    "common = [x for x in a if x in b]\n",
    "print('Common elements (preserving A order):', common)\n"
   ]
  },
  {
   "cell_type": "markdown",
   "id": "1b05cfbe",
   "metadata": {},
   "source": [
    "## 42. List Element Count\n",
    "\n",
    "**Question:** Write a Python program to count the occurrences of a specific element in a given list.\n"
   ]
  },
  {
   "cell_type": "code",
   "execution_count": 3,
   "id": "404b5005",
   "metadata": {},
   "outputs": [
    {
     "name": "stdout",
     "output_type": "stream",
     "text": [
      "[1, 2, 4]\n",
      "Occurrences of 1 : 1\n"
     ]
    }
   ],
   "source": [
    "arr = [int(x) for x in input('Enter integers separated by space: ').split()]\n",
    "print(arr)\n",
    "e = int(input('Enter element to count: '))\n",
    "print('Occurrences of', e, ':', arr.count(e))\n"
   ]
  },
  {
   "cell_type": "markdown",
   "id": "a477b3c7",
   "metadata": {},
   "source": [
    "## 43. List Duplicates Removal\n",
    "\n",
    "**Question:** Write a Python program to remove duplicates from a given list while preserving the order of the elements.\n",
    "\n"
   ]
  },
  {
   "cell_type": "code",
   "execution_count": 4,
   "id": "ad1d5f2f",
   "metadata": {},
   "outputs": [
    {
     "name": "stdout",
     "output_type": "stream",
     "text": [
      "[1, 2, 3]\n",
      "Without duplicates (order preserved): [1, 2, 3]\n"
     ]
    }
   ],
   "source": [
    "arr = [int(x) for x in input('Enter integers separated by space: ').split()]\n",
    "print(arr)\n",
    "seen = set()\n",
    "res = []\n",
    "for x in arr:\n",
    "    if x not in seen:\n",
    "        res.append(x)\n",
    "        seen.add(x)\n",
    "print('Without duplicates (order preserved):', res)\n"
   ]
  },
  {
   "cell_type": "markdown",
   "id": "ca8e8e61",
   "metadata": {},
   "source": [
    "## 44. List Comprehension (squares)\n",
    "\n",
    "**Question:**Given a list of integers, write a Python program to create a new list that contains the squares of the elements using list comprehension."
   ]
  },
  {
   "cell_type": "code",
   "execution_count": 5,
   "id": "9fefa0a8",
   "metadata": {},
   "outputs": [
    {
     "name": "stdout",
     "output_type": "stream",
     "text": [
      "[1, 2, 34]\n",
      "Squares: [1, 4, 1156]\n"
     ]
    }
   ],
   "source": [
    "arr = [int(x) for x in input('Enter integers separated by space: ').split()]\n",
    "print(arr)\n",
    "squares = [x*x for x in arr]\n",
    "print('Squares:', squares)\n"
   ]
  },
  {
   "cell_type": "markdown",
   "id": "c29affb6",
   "metadata": {},
   "source": [
    "## 45. Matrix Addition\n",
    "\n",
    "**Question:** Write a Python program to add two matrices represented as nested lists."
   ]
  },
  {
   "cell_type": "code",
   "execution_count": null,
   "id": "1d405007",
   "metadata": {},
   "outputs": [
    {
     "name": "stdout",
     "output_type": "stream",
     "text": [
      "Enter matrix A:\n",
      "Enter matrix A:\n",
      "Enter matrix B:\n",
      "Result:\n",
      "[5, 7]\n",
      "[6, 4]\n"
     ]
    }
   ],
   "source": [
    "r = int(input('Rows: '))\n",
    "c = int(input('Cols: '))\n",
    "print('Enter matrix A:')\n",
    "A = [list(map(int, input().split())) for _ in range(r)]\n",
    "print('Enter matrix B:')\n",
    "B = [list(map(int, input().split())) for _ in range(r)]\n",
    "C = [[A[i][j] + B[i][j] for j in range(c)] for i in range(r)]\n",
    "print('Result:')\n",
    "for row in C:\n",
    "    print(row)\n"
   ]
  },
  {
   "cell_type": "markdown",
   "id": "5afd25e9",
   "metadata": {},
   "source": [
    "## 46. Flatten Nested List\n",
    "\n",
    "**Question:** Write a Python program to flatten a given nested list and convert it into a single-dimensional list.\n"
   ]
  },
  {
   "cell_type": "code",
   "execution_count": 10,
   "id": "f18972a1",
   "metadata": {},
   "outputs": [
    {
     "name": "stdout",
     "output_type": "stream",
     "text": [
      "Number 4\n",
      "Flattened list: [2, 3, 6, 1]\n"
     ]
    }
   ],
   "source": [
    "n = int(input('Enter number of sublists: '))\n",
    "print(\"Number\",n)\n",
    "res = []\n",
    "for i in range(n):\n",
    "    row = [int(x) for x in input(f'Enter elements of sublist {i+1} separated by space: ').split()]\n",
    "    res.extend(row)\n",
    "print('Flattened list:', res)\n"
   ]
  },
  {
   "cell_type": "markdown",
   "id": "a10b985f",
   "metadata": {},
   "source": [
    "## 47. List Element Frequency (nested)\n",
    "\n",
    "**Question:** Given a nested list containing lists of integers, write a Python program to count the frequency of each element in the entire nested list."
   ]
  },
  {
   "cell_type": "code",
   "execution_count": 12,
   "id": "ca292cee",
   "metadata": {},
   "outputs": [
    {
     "name": "stdout",
     "output_type": "stream",
     "text": [
      "2\n",
      "Frequencies:\n",
      "1 : 1\n",
      "2 : 1\n"
     ]
    }
   ],
   "source": [
    "n = int(input('Enter number of sublists: '))\n",
    "print(n)\n",
    "freq = {}\n",
    "for i in range(n):\n",
    "    row = [int(x) for x in input().split()]\n",
    "    for x in row:\n",
    "        freq[x] = freq.get(x, 0) + 1\n",
    "print('Frequencies:')\n",
    "for k, v in freq.items():\n",
    "    print(k, ':', v)\n"
   ]
  },
  {
   "cell_type": "markdown",
   "id": "01c56491",
   "metadata": {},
   "source": [
    "## 48. Transpose Matrix\n",
    "\n",
    "**Question:** Write a Python program to transpose a given matrix represented as a nested list.\n"
   ]
  },
  {
   "cell_type": "code",
   "execution_count": 16,
   "id": "ebdfa388",
   "metadata": {},
   "outputs": [
    {
     "name": "stdout",
     "output_type": "stream",
     "text": [
      "rows is 2\n",
      "col is 2\n",
      "Enter matrix:\n",
      "Transpose:\n",
      "[1, 4]\n",
      "[3, 5]\n"
     ]
    }
   ],
   "source": [
    "a = int(input('Rows: '))\n",
    "b = int(input('Cols: '))\n",
    "print(f'rows is {a}')\n",
    "print(f'col is {b}')\n",
    "print('Enter matrix:')\n",
    "A = [list(map(int, input().split())) for _ in range(r)]\n",
    "T = [[A[i][j] for i in range(r)] for j in range(c)]\n",
    "print('Transpose:')\n",
    "for row in T:\n",
    "    print(row)\n"
   ]
  },
  {
   "cell_type": "markdown",
   "id": "7a39af58",
   "metadata": {},
   "source": [
    "## 49. List of Lists Concatenation\n",
    "\n",
    "**Question:** Given a list of nested lists, write a Python program to concatenate all the sublists into a single flat list.\n"
   ]
  },
  {
   "cell_type": "code",
   "execution_count": 17,
   "id": "7baa723a",
   "metadata": {},
   "outputs": [
    {
     "name": "stdout",
     "output_type": "stream",
     "text": [
      "4\n",
      "Concatenated list: [4, 4, 2, 3]\n"
     ]
    }
   ],
   "source": [
    "m = int(input('Enter number of sublists: '))\n",
    "print(m)\n",
    "res = []\n",
    "for i in range(m):\n",
    "    row = [int(x) for x in input().split()]\n",
    "    res += row\n",
    "print('Concatenated list:', res)\n"
   ]
  },
  {
   "cell_type": "markdown",
   "id": "03202ca3",
   "metadata": {},
   "source": [
    "## 50. Tuple Concatenation\n",
    "\n",
    "**Question:** Write a Python program to concatenate two tuples and create a new tuple.\n"
   ]
  },
  {
   "cell_type": "code",
   "execution_count": 18,
   "id": "252d4a7e",
   "metadata": {},
   "outputs": [
    {
     "name": "stdout",
     "output_type": "stream",
     "text": [
      "(1, 2, 3, 4)\n",
      "(4, 2, 1)\n",
      "Concatenated tuple: (1, 2, 3, 4, 4, 2, 1)\n"
     ]
    }
   ],
   "source": [
    "t1 = tuple(map(int, input('Enter tuple1 elements: ').split()))\n",
    "t2 = tuple(map(int, input('Enter tuple2 elements: ').split()))\n",
    "print(t1)\n",
    "print(t2)\n",
    "print('Concatenated tuple:', t1 + t2)\n"
   ]
  },
  {
   "cell_type": "markdown",
   "id": "430416cc",
   "metadata": {},
   "source": [
    "## 51. Tuple Unpacking\n",
    "\n",
    "**Question:** Given a tuple with three elements (x, y, z), write a Python program to unpack the tuple and assign the values to three variables.\n"
   ]
  },
  {
   "cell_type": "code",
   "execution_count": 20,
   "id": "7629e90e",
   "metadata": {},
   "outputs": [
    {
     "name": "stdout",
     "output_type": "stream",
     "text": [
      "('1', '2', '3')\n",
      "x = 1 y = 2 z = 3\n"
     ]
    }
   ],
   "source": [
    "t = tuple(input('Enter 3 elements separated by space: ').split())\n",
    "print(t)\n",
    "if len(t) != 3:\n",
    "    print('Please enter exactly 3 elements')\n",
    "else:\n",
    "    x, y, z = t\n",
    "    print('x =', x, 'y =', y, 'z =', z)\n"
   ]
  },
  {
   "cell_type": "markdown",
   "id": "89e700c4",
   "metadata": {},
   "source": [
    "## 52. Tuple Sorting\n",
    "\n",
    "**Question:** Write a Python program to sort a tuple of integers in ascending order.\n"
   ]
  },
  {
   "cell_type": "code",
   "execution_count": 22,
   "id": "6e22bd86",
   "metadata": {},
   "outputs": [
    {
     "name": "stdout",
     "output_type": "stream",
     "text": [
      "(4, 1, 5)\n",
      "Sorted tuple: (1, 4, 5)\n"
     ]
    }
   ],
   "source": [
    "t = tuple(map(int, input('Enter tuple integers: ').split()))\n",
    "print(t)\n",
    "    \n",
    "sorted_t = tuple(sorted(t))\n",
    "print('Sorted tuple:', sorted_t)\n"
   ]
  },
  {
   "cell_type": "markdown",
   "id": "a9874a60",
   "metadata": {},
   "source": [
    "## 53. Tuple Frequency Count\n",
    "\n",
    "**Question:** Given a tuple containing various elements, write a Python program to count the frequency of a specific element in the tuple.\n"
   ]
  },
  {
   "cell_type": "code",
   "execution_count": 23,
   "id": "9d2237d6",
   "metadata": {},
   "outputs": [
    {
     "name": "stdout",
     "output_type": "stream",
     "text": [
      "('2', '5', '1')\n",
      "Occurrences: 1\n"
     ]
    }
   ],
   "source": [
    "t = tuple(input('Enter tuple elements separated by space: ').split())\n",
    "print(t)\n",
    "el = input('Enter element to count: ')\n",
    "print('Occurrences:', t.count(el))\n"
   ]
  },
  {
   "cell_type": "markdown",
   "id": "00124fba",
   "metadata": {},
   "source": [
    "## 54. Tuple to List\n",
    "\n",
    "**Question:** Write a Python program to convert a tuple into a list. 54. Tuple Reversal: Write a Python program to reverse a tuple without using any built-in functions.\n"
   ]
  },
  {
   "cell_type": "code",
   "execution_count": 24,
   "id": "4562f720",
   "metadata": {},
   "outputs": [
    {
     "name": "stdout",
     "output_type": "stream",
     "text": [
      "('1', '4', '2', '1')\n",
      "List: ['1', '4', '2', '1']\n"
     ]
    }
   ],
   "source": [
    "t = tuple(input('Enter tuple elements separated by space: ').split())\n",
    "print(t)\n",
    "print('List:', list(t))\n"
   ]
  },
  {
   "cell_type": "markdown",
   "id": "b90e647c",
   "metadata": {},
   "source": [
    "## 56. Tuple Slicing\n",
    "\n",
    "**Question:** Given a tuple, write a Python program to extract a slice of elements from it.\n"
   ]
  },
  {
   "cell_type": "code",
   "execution_count": 25,
   "id": "592974ca",
   "metadata": {},
   "outputs": [
    {
     "name": "stdout",
     "output_type": "stream",
     "text": [
      "('4', '2', '5', '1', '2')\n",
      "Slice: ('2',)\n"
     ]
    }
   ],
   "source": [
    "t = tuple(input('Enter tuple elements separated by space: ').split())\n",
    "print(t)\n",
    "start = int(input('Start index: '))\n",
    "end = int(input('End index (exclusive): '))\n",
    "print('Slice:', t[start:end])\n"
   ]
  },
  {
   "cell_type": "markdown",
   "id": "5c0b639c",
   "metadata": {},
   "source": [
    "## 57. Tuple Operations (element-wise)\n",
    "\n",
    "**Question:** Given two tuples of integers, write a Python program to perform element-wise addition, subtraction, and multiplication and create new tuples for each operation.\n"
   ]
  },
  {
   "cell_type": "code",
   "execution_count": 26,
   "id": "5adccb4e",
   "metadata": {},
   "outputs": [
    {
     "name": "stdout",
     "output_type": "stream",
     "text": [
      "[1, 2, 3]\n",
      "[1, 2, 3]\n",
      "Addition: (2, 4, 6)\n",
      "Subtraction: (0, 0, 0)\n",
      "Multiplication: (1, 4, 9)\n"
     ]
    }
   ],
   "source": [
    "a = list(map(int, input('Enter tuple A integers: ').split()))\n",
    "b = list(map(int, input('Enter tuple B integers: ').split()))\n",
    "print(a)\n",
    "print(b)\n",
    "if len(a) != len(b):\n",
    "    print('Tuples must be same length')\n",
    "else:\n",
    "    add = tuple(x+y for x,y in zip(a,b))\n",
    "    sub = tuple(x-y for x,y in zip(a,b))\n",
    "    mul = tuple(x*y for x,y in zip(a,b))\n",
    "    print('Addition:', add)\n",
    "    print('Subtraction:', sub)\n",
    "    print('Multiplication:', mul)\n"
   ]
  },
  {
   "cell_type": "markdown",
   "id": "3a783ddc",
   "metadata": {},
   "source": [
    "## 58. Tuple Membership Test\n",
    "\n",
    "**Question:** Write a Python program that takes an element as input and checks if it exists in a given tuple.\n"
   ]
  },
  {
   "cell_type": "code",
   "execution_count": 27,
   "id": "f120cd8f",
   "metadata": {},
   "outputs": [
    {
     "name": "stdout",
     "output_type": "stream",
     "text": [
      "('1', '2', '3')\n",
      "Found\n"
     ]
    }
   ],
   "source": [
    "t = tuple(input('Enter tuple elements separated by space: ').split())\n",
    "print(t)\n",
    "el = input('Enter element to check: ')\n",
    "print('Found' if el in t else 'Not Found')\n"
   ]
  },
  {
   "cell_type": "markdown",
   "id": "6058549f",
   "metadata": {},
   "source": [
    "## 59. Tuple Packing\n",
    "\n",
    "**Question:** Write a Python program to pack three variables into a single tuple and print the tuple.\n"
   ]
  },
  {
   "cell_type": "code",
   "execution_count": 28,
   "id": "f83ee1c3",
   "metadata": {},
   "outputs": [
    {
     "name": "stdout",
     "output_type": "stream",
     "text": [
      "4\n",
      "2\n",
      "1\n",
      "Packed tuple: ('4', '2', '1')\n"
     ]
    }
   ],
   "source": [
    "x = input('x: ')\n",
    "y = input('y: ')\n",
    "z = input('z: ')\n",
    "print(x)\n",
    "print(y)\n",
    "print(z)\n",
    "print('Packed tuple:', (x, y, z))\n"
   ]
  },
  {
   "cell_type": "markdown",
   "id": "3666104b",
   "metadata": {},
   "source": [
    "## 60. Nested List Element Access\n",
    "\n",
    "**Question:** Given a nested list, write a Python program to access and print specific elements from it.\n"
   ]
  },
  {
   "cell_type": "code",
   "execution_count": null,
   "id": "904e64e6",
   "metadata": {},
   "outputs": [],
   "source": [
    "nested = [[int(x) for x in input('Enter row 1: ').split()], [int(x) for x in input('Enter row 2: ').split()]]\n",
    "r = int(input('Enter row index (0 or 1): '))\n",
    "c = int(input('Enter column index: '))\n",
    "try:\n",
    "    print('Element:', nested[r][c])\n",
    "except Exception as e:\n",
    "    print('Invalid index')\n"
   ]
  },
  {
   "cell_type": "markdown",
   "id": "04d1b600",
   "metadata": {},
   "source": [
    "## 61. Nested List Flattening\n",
    "\n",
    "**Question:** Write a Python program to flatten a nested list and convert it into a single-dimensional list."
   ]
  },
  {
   "cell_type": "code",
   "execution_count": 29,
   "id": "af82f638",
   "metadata": {},
   "outputs": [
    {
     "name": "stdout",
     "output_type": "stream",
     "text": [
      "2\n",
      "Flattened: [1, 2, 2, 3]\n"
     ]
    }
   ],
   "source": [
    "n = int(input('Number of sublists: '))\n",
    "print(n)\n",
    "flat = []\n",
    "for _ in range(n):\n",
    "    sub = [int(x) for x in input().split()]\n",
    "    flat.extend(sub)\n",
    "print('Flattened:', flat)\n"
   ]
  },
  {
   "cell_type": "markdown",
   "id": "6d01e51d",
   "metadata": {},
   "source": [
    "## 62. Nested List Sorting by length\n",
    "\n",
    "**Question:** Given a nested list containing lists of integers, write a Python program to sort the sublists based on their lengths.\n"
   ]
  },
  {
   "cell_type": "code",
   "execution_count": 30,
   "id": "e142e33f",
   "metadata": {},
   "outputs": [
    {
     "name": "stdout",
     "output_type": "stream",
     "text": [
      "2\n",
      "Sublists sorted by length:\n",
      "[5, 4]\n",
      "[1, 2, 3]\n"
     ]
    }
   ],
   "source": [
    "n = int(input('Number of sublists: '))\n",
    "print(n)\n",
    "lsts = [list(map(int, input().split())) for _ in range(n)]\n",
    "sorted_by_len = sorted(lsts, key=len)\n",
    "print('Sublists sorted by length:')\n",
    "for s in sorted_by_len:\n",
    "    print(s)\n"
   ]
  },
  {
   "cell_type": "markdown",
   "id": "6aaedda0",
   "metadata": {},
   "source": [
    "## 63. List of Tuples Conversion (coords)\n",
    "\n",
    "**Question:** Given a nested list containing tuples of (x, y) coordinates, write a Python program to convert it into a list of x-coordinates and a list of y-coordinates.\n"
   ]
  },
  {
   "cell_type": "code",
   "execution_count": 31,
   "id": "be0a6f54",
   "metadata": {},
   "outputs": [
    {
     "name": "stdout",
     "output_type": "stream",
     "text": [
      "2\n",
      "X-coords: [1, 5]\n",
      "Y-coords: [5, 3]\n"
     ]
    }
   ],
   "source": [
    "n = int(input('Number of points: '))\n",
    "print(n)\n",
    "coords = [tuple(map(int, input('Enter x y: ').split())) for _ in range(n)]\n",
    "xs = [p[0] for p in coords]\n",
    "ys = [p[1] for p in coords]\n",
    "print('X-coords:', xs)\n",
    "print('Y-coords:', ys)\n"
   ]
  },
  {
   "cell_type": "markdown",
   "id": "84b4cbcc",
   "metadata": {},
   "source": [
    "## 64. Matrix Transpose\n",
    "\n",
    "**Question:** Write a Python program to transpose a given matrix represented as a nested list.\n"
   ]
  },
  {
   "cell_type": "code",
   "execution_count": 32,
   "id": "c94a312e",
   "metadata": {},
   "outputs": [
    {
     "name": "stdout",
     "output_type": "stream",
     "text": [
      "2 2\n",
      "Transpose:\n",
      "[1, 5]\n",
      "[3, 2]\n"
     ]
    }
   ],
   "source": [
    "r = int(input('Rows: '))\n",
    "c = int(input('Cols: '))\n",
    "print(r, c)\n",
    "A = [list(map(int, input().split())) for _ in range(r)]\n",
    "T = list(map(list, zip(*A)))\n",
    "print('Transpose:')\n",
    "for row in T:\n",
    "    print(row)\n"
   ]
  },
  {
   "cell_type": "markdown",
   "id": "27cd858a",
   "metadata": {},
   "source": [
    "## 65. Nested List Concatenation\n",
    "\n",
    "**Question:** Given a list of nested lists, write a Python program to concatenate all the sublists into a single flat list.\n"
   ]
  },
  {
   "cell_type": "code",
   "execution_count": 33,
   "id": "f0bf3b81",
   "metadata": {},
   "outputs": [
    {
     "name": "stdout",
     "output_type": "stream",
     "text": [
      "2\n",
      "Concatenated: [2, 4]\n"
     ]
    }
   ],
   "source": [
    "m = int(input('Number of sublists: '))\n",
    "print(m)\n",
    "res = []\n",
    "for _ in range(m):\n",
    "    res += [int(x) for x in input().split()]\n",
    "print('Concatenated:', res)\n"
   ]
  },
  {
   "cell_type": "markdown",
   "id": "cc650d17",
   "metadata": {},
   "source": [
    "## 66. Count Even Numbers in Nested List\n",
    "\n",
    "**Question:** Write a Python program to count the number of even numbers in a nested list.\n"
   ]
  },
  {
   "cell_type": "code",
   "execution_count": 34,
   "id": "ebf348aa",
   "metadata": {},
   "outputs": [
    {
     "name": "stdout",
     "output_type": "stream",
     "text": [
      "2\n",
      "Even numbers count: 1\n"
     ]
    }
   ],
   "source": [
    "n = int(input('Number of sublists: '))\n",
    "print(n)\n",
    "count = 0\n",
    "for _ in range(n):\n",
    "    row = [int(x) for x in input().split()]\n",
    "    for v in row:\n",
    "        if v % 2 == 0:\n",
    "            count += 1\n",
    "print('Even numbers count:', count)\n"
   ]
  },
  {
   "cell_type": "markdown",
   "id": "8c483fb9",
   "metadata": {},
   "source": [
    "## 67. Maximum Element in Nested List\n",
    "\n",
    "**Question:** Write a Python program to find the maximum element in a nested list of integers.\n"
   ]
  },
  {
   "cell_type": "code",
   "execution_count": 35,
   "id": "26a543d2",
   "metadata": {},
   "outputs": [
    {
     "name": "stdout",
     "output_type": "stream",
     "text": [
      "2\n",
      "Maximum element: 3\n"
     ]
    }
   ],
   "source": [
    "n = int(input('Number of sublists: '))\n",
    "print(n)\n",
    "mx = None\n",
    "for _ in range(n):\n",
    "    row = [int(x) for x in input().split()]\n",
    "    for v in row:\n",
    "        if mx is None or v > mx:\n",
    "            mx = v\n",
    "print('Maximum element:', mx)\n"
   ]
  },
  {
   "cell_type": "markdown",
   "id": "34d37407",
   "metadata": {},
   "source": [
    "## 68. Diagonal Sum of Matrix\n",
    "\n",
    "**Question:** Given a square matrix represented as a nested list, write a Python program to calculate the sum of the elements in the main diagonal.\n"
   ]
  },
  {
   "cell_type": "code",
   "execution_count": 36,
   "id": "a45dfd2e",
   "metadata": {},
   "outputs": [
    {
     "name": "stdout",
     "output_type": "stream",
     "text": [
      "2\n",
      "Diagonal sum: 3\n"
     ]
    }
   ],
   "source": [
    "n = int(input('Enter size n for n x n matrix: '))\n",
    "print(n)\n",
    "A = [list(map(int, input().split())) for _ in range(n)]\n",
    "s = sum(A[i][i] for i in range(n))\n",
    "print('Diagonal sum:', s)\n"
   ]
  },
  {
   "cell_type": "markdown",
   "id": "6579c9b4",
   "metadata": {},
   "source": [
    "## 69. Nested List Element Search\n",
    "\n",
    "**Question:** Write a Python program to search for a specific element in a nested list and return its position (row and column indices).\n",
    "\n"
   ]
  },
  {
   "cell_type": "code",
   "execution_count": 37,
   "id": "a3c91198",
   "metadata": {},
   "outputs": [
    {
     "name": "stdout",
     "output_type": "stream",
     "text": [
      "2\n",
      "Found at: 0 1\n"
     ]
    }
   ],
   "source": [
    "n = int(input('Number of rows: '))\n",
    "print(n)\n",
    "mat = [list(map(int, input().split())) for _ in range(n)]\n",
    "target = int(input('Element to search: '))\n",
    "found = False\n",
    "for i, row in enumerate(mat):\n",
    "    for j, val in enumerate(row):\n",
    "        if val == target:\n",
    "            print('Found at:', i, j)\n",
    "            found = True\n",
    "            break\n",
    "    if found: break\n",
    "if not found:\n",
    "    print('Not found')\n"
   ]
  },
  {
   "cell_type": "markdown",
   "id": "07733254",
   "metadata": {},
   "source": [
    "## 70. Duplicate Removal (set)\n",
    "\n",
    "**Question:** Write a Python program that takes a list of elements as input and creates a new set containing only the unique elements from the list.\n"
   ]
  },
  {
   "cell_type": "code",
   "execution_count": 38,
   "id": "c02c5fd4",
   "metadata": {},
   "outputs": [
    {
     "name": "stdout",
     "output_type": "stream",
     "text": [
      "['1', '2', '3']\n",
      "Unique elements (set): {'2', '3', '1'}\n"
     ]
    }
   ],
   "source": [
    "arr = input('Enter elements separated by space: ').split()\n",
    "print(arr)\n",
    "unique = set(arr)\n",
    "print('Unique elements (set):', unique)\n"
   ]
  },
  {
   "cell_type": "markdown",
   "id": "273b7cce",
   "metadata": {},
   "source": [
    "## 71. Set Intersection\n",
    "\n",
    "**Question:** Given two sets A and B, write a Python program to find their intersection and print the common elements.\n"
   ]
  },
  {
   "cell_type": "code",
   "execution_count": 39,
   "id": "b0fd8798",
   "metadata": {},
   "outputs": [
    {
     "name": "stdout",
     "output_type": "stream",
     "text": [
      "{'2', '4', '1'}\n",
      "{'2', '5', '4'}\n",
      "Intersection: {'2', '4'}\n"
     ]
    }
   ],
   "source": [
    "A = set(input('Enter set A elements: ').split())\n",
    "B = set(input('Enter set B elements: ').split())\n",
    "print(A)\n",
    "print(B)\n",
    "print('Intersection:', A & B)\n"
   ]
  },
  {
   "cell_type": "markdown",
   "id": "3d154977",
   "metadata": {},
   "source": [
    "## 72. Set Union\n",
    "\n",
    "**Question:** Find union of two sets.\n",
    "\n",
    "**Explanation:** Use | or set.union().\n"
   ]
  },
  {
   "cell_type": "code",
   "execution_count": 40,
   "id": "c83ec6cd",
   "metadata": {},
   "outputs": [
    {
     "name": "stdout",
     "output_type": "stream",
     "text": [
      "{'2', '3', '1'}\n",
      "{'2', '5', '4'}\n",
      "Union: {'2', '5', '3', '1', '4'}\n"
     ]
    }
   ],
   "source": [
    "A = set(input('Enter set A elements: ').split())\n",
    "B = set(input('Enter set B elements: ').split())\n",
    "print(A)\n",
    "print(B)\n",
    "print('Union:', A | B)\n"
   ]
  },
  {
   "cell_type": "markdown",
   "id": "bec65ecb",
   "metadata": {},
   "source": [
    "## 73. Set Difference\n",
    "\n",
    "**Question:** Elements in A but not in B.\n",
    "\n",
    "**Explanation:** Use A - B.\n"
   ]
  },
  {
   "cell_type": "code",
   "execution_count": 41,
   "id": "880ff139",
   "metadata": {},
   "outputs": [
    {
     "name": "stdout",
     "output_type": "stream",
     "text": [
      "{'2', '3', '1'}\n",
      "{'5', '4', '1'}\n",
      "A - B = {'2', '3'}\n"
     ]
    }
   ],
   "source": [
    "A = set(input('Enter set A elements: ').split())\n",
    "B = set(input('Enter set B elements: ').split())\n",
    "print(A)\n",
    "print(B)\n",
    "print('A - B =', A - B)\n"
   ]
  },
  {
   "cell_type": "markdown",
   "id": "4e9dfd0a",
   "metadata": {},
   "source": [
    "## 74. Set Symmetric Difference\n",
    "\n",
    "**Question:** Elements in either A or B but not both.\n",
    "\n",
    "**Explanation:** Use ^ operator.\n"
   ]
  },
  {
   "cell_type": "code",
   "execution_count": 42,
   "id": "6cd48cac",
   "metadata": {},
   "outputs": [
    {
     "name": "stdout",
     "output_type": "stream",
     "text": [
      "{'2', '3', '1'}\n",
      "{'2', '4', '1'}\n",
      "Symmetric difference: {'4', '3'}\n"
     ]
    }
   ],
   "source": [
    "A = set(input('Enter set A elements: ').split())\n",
    "B = set(input('Enter set B elements: ').split())\n",
    "print(A)\n",
    "print(B)\n",
    "print('Symmetric difference:', A ^ B)\n"
   ]
  },
  {
   "cell_type": "markdown",
   "id": "ab2cd97c",
   "metadata": {},
   "source": [
    "## 75. Set Operations (three sets)\n",
    "\n",
    "**Question:** Compute intersection(A,B), union(B,C), difference(C,A).\n",
    "\n",
    "**Explanation:** Use set methods.\n"
   ]
  },
  {
   "cell_type": "code",
   "execution_count": 43,
   "id": "86736491",
   "metadata": {},
   "outputs": [
    {
     "name": "stdout",
     "output_type": "stream",
     "text": [
      "{'2', '3', '1'}\n",
      "{'4', '1', '0'}\n",
      "{'2', '4', '6'}\n",
      "A & B = {'1'}\n",
      "B | C = {'2', '4', '6', '1', '0'}\n",
      "C - A = {'4', '6'}\n"
     ]
    }
   ],
   "source": [
    "A = set(input('Enter A: ').split())\n",
    "B = set(input('Enter B: ').split())\n",
    "C = set(input('Enter C: ').split())\n",
    "print(A)\n",
    "print(B)\n",
    "print(C)\n",
    "print('A & B =', A & B)\n",
    "print('B | C =', B | C)\n",
    "print('C - A =', C - A)\n"
   ]
  },
  {
   "cell_type": "markdown",
   "id": "5bc9ef3a",
   "metadata": {},
   "source": [
    "## 76. Set Subset Check\n",
    "\n",
    "**Question:** Check if A is subset of B.\n",
    "\n",
    "**Explanation:** Use <= or set.issubset().\n"
   ]
  },
  {
   "cell_type": "code",
   "execution_count": 44,
   "id": "151950bb",
   "metadata": {},
   "outputs": [
    {
     "name": "stdout",
     "output_type": "stream",
     "text": [
      "{'2', '3', '1'}\n",
      "{'2', '4', '1'}\n",
      "A is subset of B? False\n"
     ]
    }
   ],
   "source": [
    "A = set(input('Enter A: ').split())\n",
    "B = set(input('Enter B: ').split())\n",
    "print(A)\n",
    "print(B)\n",
    "print('A is subset of B?' , A.issubset(B))\n"
   ]
  },
  {
   "cell_type": "markdown",
   "id": "660c6d2b",
   "metadata": {},
   "source": [
    "## 77. Set Superset Check\n",
    "\n",
    "**Question:** Check if A is superset of B.\n",
    "\n",
    "**Explanation:** Use >= or set.issuperset().\n"
   ]
  },
  {
   "cell_type": "code",
   "execution_count": 45,
   "id": "fc5dec48",
   "metadata": {},
   "outputs": [
    {
     "name": "stdout",
     "output_type": "stream",
     "text": [
      "{'2', '3', '1'}\n",
      "{'3', '4', '6', '2', '5', '1'}\n",
      "A is superset of B? False\n"
     ]
    }
   ],
   "source": [
    "A = set(input('Enter A: ').split())\n",
    "B = set(input('Enter B: ').split())\n",
    "print(A)\n",
    "print(B)\n",
    "print('A is superset of B?' , A.issuperset(B))\n"
   ]
  },
  {
   "cell_type": "markdown",
   "id": "3d4ffd16",
   "metadata": {},
   "source": [
    "## 78. Set Length Check\n",
    "\n",
    "**Question:** Print number of elements in set.\n",
    "\n",
    "**Explanation:** Use len().\n"
   ]
  },
  {
   "cell_type": "code",
   "execution_count": 46,
   "id": "66abc599",
   "metadata": {},
   "outputs": [
    {
     "name": "stdout",
     "output_type": "stream",
     "text": [
      "{'2', '3', '1'}\n",
      "Number of elements: 3\n"
     ]
    }
   ],
   "source": [
    "s = set(input('Enter elements for set: ').split())\n",
    "print(s)\n",
    "print('Number of elements:', len(s))\n"
   ]
  },
  {
   "cell_type": "markdown",
   "id": "e63d3518",
   "metadata": {},
   "source": [
    "## 79. Set Membership Test\n",
    "\n",
    "**Question:** Check element membership in set.\n",
    "\n",
    "**Explanation:** Use 'in' operator.\n"
   ]
  },
  {
   "cell_type": "code",
   "execution_count": 47,
   "id": "f81f986a",
   "metadata": {},
   "outputs": [
    {
     "name": "stdout",
     "output_type": "stream",
     "text": [
      "{'2', '3', '1', '4'}\n",
      "Found\n"
     ]
    }
   ],
   "source": [
    "s = set(input('Enter set elements: ').split())\n",
    "print(s)\n",
    "el = input('Element to search: ')\n",
    "print('Found' if el in s else 'Not Found')\n"
   ]
  },
  {
   "cell_type": "markdown",
   "id": "757b17d0",
   "metadata": {},
   "source": [
    "## 80. Dictionary Manipulation\n",
    "\n",
    "**Question:** Add new student and update existing student's score.\n",
    "\n",
    "**Explanation:** Use dict assignment.\n"
   ]
  },
  {
   "cell_type": "code",
   "execution_count": 48,
   "id": "620ad2ad",
   "metadata": {},
   "outputs": [
    {
     "name": "stdout",
     "output_type": "stream",
     "text": [
      "Initial dict: {}\n",
      "Student not found to update\n",
      "Updated students dict: {'ahmed': 10}\n"
     ]
    }
   ],
   "source": [
    "students = {}\n",
    "entries = input('Enter students as name:score separated by space: ').split()\n",
    "for e in entries:\n",
    "    if ':' in e:\n",
    "        name, sc = e.split(':')\n",
    "        students[name] = int(sc)\n",
    "print('Initial dict:', students)\n",
    "new = input('Enter new student name: ')\n",
    "score = int(input('Enter score for new student: '))\n",
    "students[new] = score\n",
    "upd = input('Enter existing student name to update: ')\n",
    "if upd in students:\n",
    "    students[upd] = int(input('Enter new score: '))\n",
    "else:\n",
    "    print('Student not found to update')\n",
    "print('Updated students dict:', students)\n"
   ]
  },
  {
   "cell_type": "markdown",
   "id": "e974808c",
   "metadata": {},
   "source": [
    "## 81. Dictionary Keys and Values\n",
    "\n",
    "**Question:** Print keys and values on separate lines.\n",
    "\n",
    "**Explanation:** Iterate keys() and values().\n"
   ]
  },
  {
   "cell_type": "code",
   "execution_count": 56,
   "id": "0711720e",
   "metadata": {},
   "outputs": [
    {
     "name": "stdout",
     "output_type": "stream",
     "text": [
      "['name:humayan']\n",
      "Keys:\n",
      "name\n",
      "Values:\n",
      "humayan\n"
     ]
    }
   ],
   "source": [
    "d = dict()\n",
    "entries = input('Enter key:value pairs separated by spacea: ').split()\n",
    "print(entries)\n",
    "for e in entries:\n",
    "    k,v = e.split(':')\n",
    "    d[k] = v\n",
    "print('Keys:')\n",
    "for k in d.keys():\n",
    "    print(k)\n",
    "print('Values:')\n",
    "for v in d.values():\n",
    "    print(v)\n"
   ]
  },
  {
   "cell_type": "markdown",
   "id": "692dbdea",
   "metadata": {},
   "source": [
    "## 82. Dictionary Length\n",
    "\n",
    "**Question:** Print number of key-value pairs.\n",
    "\n",
    "**Explanation:** Use len().\n"
   ]
  },
  {
   "cell_type": "code",
   "execution_count": 58,
   "id": "8893fa70",
   "metadata": {},
   "outputs": [
    {
     "name": "stdout",
     "output_type": "stream",
     "text": [
      "['name:humayan', 'age:23']\n",
      "Number of items: 2\n"
     ]
    }
   ],
   "source": [
    "d = dict()\n",
    "entries = input('Enter key:value pairs separated by space: ').split()\n",
    "print(entries)\n",
    "for e in entries:\n",
    "    k,v = e.split(':')\n",
    "    d[k] = v\n",
    "print('Number of items:', len(d))\n"
   ]
  },
  {
   "cell_type": "markdown",
   "id": "f245e24c",
   "metadata": {},
   "source": [
    "## 83. Dictionary Value Search\n",
    "\n",
    "**Question:** Search item by price and print name if matched.\n",
    "\n",
    "**Explanation:** Iterate items and compare values (converted to float/int).\n"
   ]
  },
  {
   "cell_type": "code",
   "execution_count": 60,
   "id": "758d683a",
   "metadata": {},
   "outputs": [
    {
     "name": "stdout",
     "output_type": "stream",
     "text": [
      "['rice:20']\n",
      "Items with price 20.0 : ['rice']\n"
     ]
    }
   ],
   "source": [
    "items = {}\n",
    "entries = input('Enter item:price pairs separated by space: ').split()\n",
    "print(entries)\n",
    "for e in entries:\n",
    "    name, price = e.split(':')\n",
    "    items[name] = float(price)\n",
    "p = float(input('Enter price to search: '))\n",
    "found = [name for name, pr in items.items() if pr == p]\n",
    "if found:\n",
    "    print('Items with price', p, ':', found)\n",
    "else:\n",
    "    print('No item with that price')\n"
   ]
  },
  {
   "cell_type": "markdown",
   "id": "6e1a58b6",
   "metadata": {},
   "source": [
    "## 84. Dictionary Merging\n",
    "\n",
    "**Question:** Merge two dictionaries into one.\n",
    "\n",
    "**Explanation:** Use dict unpacking or update().\n"
   ]
  },
  {
   "cell_type": "code",
   "execution_count": 62,
   "id": "9d9fc050",
   "metadata": {},
   "outputs": [
    {
     "name": "stdout",
     "output_type": "stream",
     "text": [
      "{'humayan': 'ahmed'}\n",
      "{'cow': 'dow'}\n",
      "Merged dict: {'humayan': 'ahmed', 'cow': 'dow'}\n"
     ]
    }
   ],
   "source": [
    "d1 = dict(x.split(':') for x in input('Enter d1 k:v pairs: ').split())\n",
    "d2 = dict(x.split(':') for x in input('Enter d2 k:v pairs: ').split())\n",
    "print(d1)\n",
    "print(d2)\n",
    "for k in d1:\n",
    "    try: d1[k] = int(d1[k])\n",
    "    except: pass\n",
    "for k in d2:\n",
    "    try: d2[k] = int(d2[k])\n",
    "    except: pass\n",
    "merged = {**d1, **d2}\n",
    "print('Merged dict:', merged)\n"
   ]
  },
  {
   "cell_type": "markdown",
   "id": "21fe571d",
   "metadata": {},
   "source": [
    "## 85. Dictionary Key Removal\n",
    "\n",
    "**Question:** Remove a specific key based on user input.\n",
    "\n",
    "**Explanation:** Use pop() or del if present.\n"
   ]
  },
  {
   "cell_type": "code",
   "execution_count": 63,
   "id": "95570cde",
   "metadata": {},
   "outputs": [
    {
     "name": "stdout",
     "output_type": "stream",
     "text": [
      "{'name': 'humayan', 'age': '26'}\n",
      "Removed. Updated dict: {'name': 'humayan'}\n"
     ]
    }
   ],
   "source": [
    "d = dict(x.split(':') for x in input('Enter items k:qty pairs: ').split())\n",
    "print(d)\n",
    "key = input('Enter key to remove: ')\n",
    "if key in d:\n",
    "    d.pop(key)\n",
    "    print('Removed. Updated dict:', d)\n",
    "else:\n",
    "    print('Key not found')\n"
   ]
  },
  {
   "cell_type": "markdown",
   "id": "30b2d95f",
   "metadata": {},
   "source": [
    "## 86. Dictionary Sorting by age\n",
    "\n",
    "**Question:** Sort dictionary by values (age) ascending and print result.\n",
    "\n",
    "**Explanation:** Use sorted(items(), key=lambda kv: kv[1]).\n"
   ]
  },
  {
   "cell_type": "code",
   "execution_count": 67,
   "id": "1c8548cd",
   "metadata": {},
   "outputs": [
    {
     "name": "stdout",
     "output_type": "stream",
     "text": [
      "['humayan:23']\n",
      "Sorted by age:\n",
      "humayan 23\n"
     ]
    }
   ],
   "source": [
    "d = dict()\n",
    "entries = input('Enter name:age pairs separated by space: ').split()\n",
    "print(entries)\n",
    "for e in entries:\n",
    "    name, age = e.split(':')\n",
    "    d[name] = int(age)\n",
    "sorted_items = sorted(d.items(), key=lambda kv: kv[1])\n",
    "print('Sorted by age:')\n",
    "for name, age in sorted_items:\n",
    "    print(name, age)\n"
   ]
  },
  {
   "cell_type": "markdown",
   "id": "5fe349bb",
   "metadata": {},
   "source": [
    "## 87. Dictionary Frequency Count\n",
    "\n",
    "**Question:** Count character frequency in a string.\n",
    "\n",
    "**Explanation:** Iterate through characters and tally counts.\n"
   ]
  },
  {
   "cell_type": "code",
   "execution_count": 68,
   "id": "1e9ba838",
   "metadata": {},
   "outputs": [
    {
     "name": "stdout",
     "output_type": "stream",
     "text": [
      "humayan\n",
      "Frequencies:\n",
      "'h' : 1\n",
      "'u' : 1\n",
      "'m' : 1\n",
      "'a' : 2\n",
      "'y' : 1\n",
      "'n' : 1\n"
     ]
    }
   ],
   "source": [
    "s = input('Enter a string: ')\n",
    "print(s)\n",
    "freq = {}\n",
    "for ch in s:\n",
    "    freq[ch] = freq.get(ch, 0) + 1\n",
    "print('Frequencies:')\n",
    "for k, v in freq.items():\n",
    "    print(repr(k), ':', v)\n"
   ]
  },
  {
   "cell_type": "markdown",
   "id": "c08fe562",
   "metadata": {},
   "source": [
    "## 88. Dictionary Comprehension (squares)\n",
    "\n",
    "**Question:** Create dict where keys are list elements and values their squares using comprehension.\n",
    "\n",
    "**Explanation:** Use {x: x*x for x in lst}.\n"
   ]
  },
  {
   "cell_type": "code",
   "execution_count": 69,
   "id": "bec1ef16",
   "metadata": {},
   "outputs": [
    {
     "name": "stdout",
     "output_type": "stream",
     "text": [
      "Dictionary: {1: 1, 2: 4, 3: 9, 4: 16}\n"
     ]
    }
   ],
   "source": [
    "lst = [int(x) for x in input('Enter integers separated by space: ').split()]\n",
    "print(lst)\n",
    "d = {x: x*x for x in lst}\n",
    "print('Dictionary:', d)\n"
   ]
  },
  {
   "cell_type": "markdown",
   "id": "0cccd131",
   "metadata": {},
   "source": [
    "## 89. Dictionary Key Check\n",
    "\n",
    "**Question:** Check if key exists and print accordingly.\n",
    "\n",
    "**Explanation:** Use 'in' operator.\n"
   ]
  },
  {
   "cell_type": "code",
   "execution_count": 70,
   "id": "2bee0d5a",
   "metadata": {},
   "outputs": [
    {
     "name": "stdout",
     "output_type": "stream",
     "text": [
      "{'name': 'humayan'}\n",
      "Key Found\n"
     ]
    }
   ],
   "source": [
    "d = dict(x.split(':') for x in input('Enter k:v pairs: ').split())\n",
    "print(d)\n",
    "key = input('Enter key to check: ')\n",
    "print('Key Found' if key in d else 'Key Not Found')\n"
   ]
  },
  {
   "cell_type": "markdown",
   "id": "55728145",
   "metadata": {},
   "source": [
    "## 90. Access Nested Dictionary\n",
    "\n",
    "**Question:** Access nested dictionary student details and print fields.\n",
    "\n",
    "**Explanation:** Use indexing with keys.\n"
   ]
  },
  {
   "cell_type": "code",
   "execution_count": 74,
   "id": "eb8329cc",
   "metadata": {},
   "outputs": [
    {
     "name": "stdout",
     "output_type": "stream",
     "text": [
      "{'s1': {'name': 'Alice', 'age': 20, 'address': 'Dhaka'}, 's2': {'name': 'Bob', 'age': 22}}\n",
      "s1\n",
      "Name: Alice\n",
      "Age: 20\n",
      "Address: Dhaka\n"
     ]
    }
   ],
   "source": [
    "students = eval(input('Enter nested dict of students (e.g. {\"s1\":{\"name\":\"A\",\"age\":20}}): '))\n",
    "print(students)\n",
    "st_id = input('Enter student id key to access: ')\n",
    "print(st_id)\n",
    "if st_id in students:\n",
    "    info = students[st_id]\n",
    "    print('Name:', info.get('name'))\n",
    "    print('Age:', info.get('age'))\n",
    "    print('Address:', info.get('address'))\n",
    "else:\n",
    "    print('Student not found')\n"
   ]
  },
  {
   "cell_type": "markdown",
   "id": "90225efc",
   "metadata": {},
   "source": [
    "## 91. Nested Dictionary Length\n",
    "\n",
    "**Question:** Count total key-value pairs in nested dictionary (top-level pairs plus inner pairs).\n",
    "\n",
    "**Explanation:** Iterate and sum lengths of inner dicts where applicable.\n"
   ]
  },
  {
   "cell_type": "code",
   "execution_count": 75,
   "id": "ac80aa50",
   "metadata": {},
   "outputs": [
    {
     "name": "stdout",
     "output_type": "stream",
     "text": [
      "{'s1': {'name': 'Alice', 'age': 20, 'address': 'Dhaka'}, 's2': {'name': 'Bob', 'age': 22}}\n",
      "Total key-value entries (including nested): 7\n"
     ]
    }
   ],
   "source": [
    "d = eval(input('Enter nested dictionary: '))\n",
    "print(d)\n",
    "count = 0\n",
    "for k, v in d.items():\n",
    "    count += 1\n",
    "    if isinstance(v, dict):\n",
    "        count += len(v)\n",
    "print('Total key-value entries (including nested):', count)\n"
   ]
  },
  {
   "cell_type": "markdown",
   "id": "ccdecf61",
   "metadata": {},
   "source": [
    "## 92. Nested Dictionary Update\n",
    "\n",
    "**Question:** Update an employee's salary given their ID.\n",
    "\n",
    "**Explanation:** Find ID key and update salary field.\n"
   ]
  },
  {
   "cell_type": "code",
   "execution_count": 76,
   "id": "c0d7552d",
   "metadata": {},
   "outputs": [
    {
     "name": "stdout",
     "output_type": "stream",
     "text": [
      "{'E1': {'salary': 400}}\n",
      "E1\n",
      "Updated: {'salary': 400.0}\n"
     ]
    }
   ],
   "source": [
    "employees = eval(input('Enter nested dict of employees (e.g. {\"E1\":{\"salary\":500}}): '))\n",
    "print(employees)\n",
    "eid = input('Enter employee ID to update: ')\n",
    "print(eid)\n",
    "if eid in employees:\n",
    "    new_sal = float(input('Enter new salary: '))\n",
    "    employees[eid]['salary'] = new_sal\n",
    "    print('Updated:', employees[eid])\n",
    "else:\n",
    "    print('Employee not found')\n"
   ]
  },
  {
   "cell_type": "markdown",
   "id": "35942bcc",
   "metadata": {},
   "source": [
    "## 93. Nested Dictionary Sorting\n",
    "\n",
    "**Question:** Sort products by price when nested dict contains price and quantity.\n",
    "\n",
    "**Explanation:** Extract items and sort by price value.\n"
   ]
  },
  {
   "cell_type": "code",
   "execution_count": 77,
   "id": "fcf2eb4e",
   "metadata": {},
   "outputs": [
    {
     "name": "stdout",
     "output_type": "stream",
     "text": [
      "{'p1': {'price': 10}}\n",
      "Products sorted by price:\n",
      "p1 {'price': 10}\n"
     ]
    }
   ],
   "source": [
    "products = eval(input('Enter nested products dict (e.g. {\"p1\":{\"price\":10}}): '))\n",
    "print(products)\n",
    "sorted_products = sorted(products.items(), key=lambda kv: kv[1].get('price', 0))\n",
    "print('Products sorted by price:')\n",
    "for name, info in sorted_products:\n",
    "    print(name, info)\n"
   ]
  },
  {
   "cell_type": "markdown",
   "id": "afddde00",
   "metadata": {},
   "source": [
    "## 94. Nested Dictionary Key Search\n",
    "\n",
    "**Question:** Search for a key in nested dictionary and print value if found.\n",
    "\n",
    "**Explanation:** Recursively search nested dicts.\n"
   ]
  },
  {
   "cell_type": "code",
   "execution_count": 78,
   "id": "94dbe8ed",
   "metadata": {},
   "outputs": [
    {
     "name": "stdout",
     "output_type": "stream",
     "text": [
      "{'s1': {'name': 'Alice', 'age': 20, 'address': 'Dhaka'}, 's2': {'name': 'Bob', 'age': 22}}\n",
      "{'name': 'Bob', 'age': 22}\n"
     ]
    }
   ],
   "source": [
    "def find_key(d, key):\n",
    "    if key in d:\n",
    "        return d[key]\n",
    "    for v in d.values():\n",
    "        if isinstance(v, dict):\n",
    "            res = find_key(v, key)\n",
    "            if res is not None:\n",
    "                return res\n",
    "    return None\n",
    "\n",
    "d = eval(input('Enter nested dictionary: '))\n",
    "print(d)\n",
    "key = input('Enter key to search: ')\n",
    "res = find_key(d, key)\n",
    "print(res if res is not None else 'Key Not Found')\n"
   ]
  },
  {
   "cell_type": "markdown",
   "id": "6ffbc7e3",
   "metadata": {},
   "source": [
    "## 95. Prime Number Checker (break)\n",
    "\n",
    "**Question:** Check primality using for loop and break if factor found.\n",
    "\n",
    "**Explanation:** Loop from 2 to sqrt(n).\n"
   ]
  },
  {
   "cell_type": "code",
   "execution_count": 79,
   "id": "054658ae",
   "metadata": {},
   "outputs": [
    {
     "name": "stdout",
     "output_type": "stream",
     "text": [
      "10\n",
      "Not prime\n"
     ]
    }
   ],
   "source": [
    "n = int(input('Enter integer (>1): '))\n",
    "print(n)\n",
    "if n <= 1:\n",
    "    print('Not prime')\n",
    "else:\n",
    "    for i in range(2, int(n**0.5) + 1):\n",
    "        if n % i == 0:\n",
    "            print('Not prime')\n",
    "            break\n",
    "    else:\n",
    "        print('Prime')\n"
   ]
  },
  {
   "cell_type": "markdown",
   "id": "a94de64f",
   "metadata": {},
   "source": [
    "## 96. Even Number Printer (continue)\n",
    "\n",
    "**Question:** Print even numbers 1 to 20 skipping odds with continue.\n",
    "\n",
    "**Explanation:** Loop and use continue when odd.\n"
   ]
  },
  {
   "cell_type": "code",
   "execution_count": 80,
   "id": "7ad29140",
   "metadata": {},
   "outputs": [
    {
     "name": "stdout",
     "output_type": "stream",
     "text": [
      "2 4 6 8 10 12 14 16 18 20 \n"
     ]
    }
   ],
   "source": [
    "for i in range(1, 21):\n",
    "    if i % 2 != 0:\n",
    "        continue\n",
    "    print(i, end=' ')\n",
    "print()\n"
   ]
  },
  {
   "cell_type": "markdown",
   "id": "17510f90",
   "metadata": {},
   "source": [
    "## 97. Password Validator (continue)\n",
    "\n",
    "**Question:** Validate password with given criteria; prompt until valid (use continue).\n",
    "\n",
    "**Explanation:** Loop until password meets checks.\n"
   ]
  },
  {
   "cell_type": "code",
   "execution_count": 81,
   "id": "b8617e34",
   "metadata": {},
   "outputs": [
    {
     "name": "stdout",
     "output_type": "stream",
     "text": [
      "humayan\n",
      "Too short\n",
      "humayan\n",
      "Too short\n",
      "humayanahmed\n",
      "Must contain both upper and lower case\n",
      "Humayan420\n",
      "Password accepted.\n"
     ]
    }
   ],
   "source": [
    "while True:\n",
    "    pwd = input('Enter password: ')\n",
    "    print(pwd)\n",
    "    if len(pwd) < 8:\n",
    "        print('Too short')\n",
    "        continue\n",
    "    if pwd.lower() == pwd or pwd.upper() == pwd:\n",
    "        print('Must contain both upper and lower case')\n",
    "        continue\n",
    "    if not any(ch.isdigit() for ch in pwd):\n",
    "        print('Must contain a digit')\n",
    "        continue\n",
    "    print('Password accepted.')\n",
    "    break\n"
   ]
  },
  {
   "cell_type": "markdown",
   "id": "ba20bd61",
   "metadata": {},
   "source": [
    "## 98. Divisible by 3 or 5\n",
    "\n",
    "**Question:** Print numbers 1 to 50 divisible by 3 or 5, skipping others with continue.\n",
    "\n",
    "**Explanation:** Use modulo tests.\n"
   ]
  },
  {
   "cell_type": "code",
   "execution_count": 82,
   "id": "9c80fadb",
   "metadata": {},
   "outputs": [
    {
     "name": "stdout",
     "output_type": "stream",
     "text": [
      "3 5 6 9 10 12 15 18 20 21 24 25 27 30 33 35 36 39 40 42 45 48 50 \n"
     ]
    }
   ],
   "source": [
    "for i in range(1, 51):\n",
    "    if i % 3 != 0 and i % 5 != 0:\n",
    "        continue\n",
    "    print(i, end=' ')\n",
    "print()\n"
   ]
  },
  {
   "cell_type": "markdown",
   "id": "2bd4359b",
   "metadata": {},
   "source": [
    "## 99. Positive Number Sum (break)\n",
    "\n",
    "**Question:** Take positive numbers until negative entered then sum positives.\n",
    "\n",
    "**Explanation:** Use while True and break on negative.\n"
   ]
  },
  {
   "cell_type": "code",
   "execution_count": 84,
   "id": "9ab2167e",
   "metadata": {},
   "outputs": [
    {
     "name": "stdout",
     "output_type": "stream",
     "text": [
      "2.0\n",
      "4.0\n",
      "6.0\n",
      "8.0\n",
      "1.0\n",
      "-1.0\n",
      "Sum of positive numbers entered: 21.0\n"
     ]
    }
   ],
   "source": [
    "total = 0\n",
    "while True:\n",
    "    x = float(input('Enter a number (negative to stop): '))\n",
    "    print(x)\n",
    "    if x < 0:\n",
    "        break\n",
    "    total += x\n",
    "print('Sum of positive numbers entered:', total)\n"
   ]
  },
  {
   "cell_type": "markdown",
   "id": "ca446aec",
   "metadata": {},
   "source": [
    "## 100. Word Palindrome Checker (continue)\n",
    "\n",
    "**Question:** Skip checking words shorter than 3 characters using continue.\n",
    "\n",
    "**Explanation:** Loop once for example input words separated by space.\n"
   ]
  },
  {
   "cell_type": "code",
   "execution_count": 85,
   "id": "ec3c2530",
   "metadata": {},
   "outputs": [
    {
     "name": "stdout",
     "output_type": "stream",
     "text": [
      "['humayan']\n",
      "humayan is not palindrome\n"
     ]
    }
   ],
   "source": [
    "words = input('Enter words separated by space: ').split()\n",
    "print(words)\n",
    "for w in words:\n",
    "    if len(w) < 3:\n",
    "        print(w, 'skipped (length < 3)')\n",
    "        continue\n",
    "    if w == w[::-1]:\n",
    "        print(w, 'is palindrome')\n",
    "    else:\n",
    "        print(w, 'is not palindrome')\n"
   ]
  },
  {
   "cell_type": "markdown",
   "id": "f7330249",
   "metadata": {},
   "source": [
    "## 101. Odd Number Finder (break)\n",
    "\n",
    "**Question:** Find first odd number in list and break.\n",
    "\n",
    "**Explanation:** Iterate and break on first odd.\n"
   ]
  },
  {
   "cell_type": "code",
   "execution_count": 86,
   "id": "cd2fbf04",
   "metadata": {},
   "outputs": [
    {
     "name": "stdout",
     "output_type": "stream",
     "text": [
      "[1, 2, 3, 4]\n",
      "First odd number: 1\n"
     ]
    }
   ],
   "source": [
    "arr = [int(x) for x in input('Enter integers separated by space: ').split()]\n",
    "print(arr)\n",
    "for x in arr:\n",
    "    if x % 2 != 0:\n",
    "        print('First odd number:', x)\n",
    "        break\n",
    "else:\n",
    "    print('No odd number found')\n"
   ]
  },
  {
   "cell_type": "markdown",
   "id": "3bf33ccd",
   "metadata": {},
   "source": [
    "## 102. Number Guessing Game\n",
    "\n",
    "**Question:** Random number between 1 and 100; user guesses until correct, use continue and break appropriately.\n",
    "\n",
    "**Explanation:** Use random.randint and loop.\n"
   ]
  },
  {
   "cell_type": "code",
   "execution_count": 89,
   "id": "aa284cbc",
   "metadata": {},
   "outputs": [
    {
     "name": "stdout",
     "output_type": "stream",
     "text": [
      "Too low\n",
      "Too low\n",
      "Too low\n",
      "Too low\n",
      "Too low\n",
      "Too low\n",
      "Too low\n",
      "Too low\n",
      "Too low\n",
      "Too low\n",
      "Too low\n",
      "Too low\n",
      "Too low\n",
      "Too low\n",
      "Too low\n",
      "Too low\n",
      "Too low\n",
      "Too low\n",
      "Too low\n",
      "Too low\n",
      "Too low\n",
      "Too low\n",
      "Too low\n",
      "Too low\n",
      "Too low\n",
      "Too low\n",
      "Too low\n",
      "Too low\n",
      "Too low\n",
      "Too low\n",
      "Too low\n",
      "Too low\n",
      "Too low\n",
      "Too low\n",
      "Too low\n",
      "Too low\n",
      "Too low\n",
      "Too low\n",
      "Too low\n",
      "Too low\n",
      "Too low\n",
      "Too low\n",
      "Too low\n",
      "Too low\n",
      "Too low\n",
      "Too low\n",
      "Too low\n",
      "Too low\n",
      "Too low\n",
      "Too low\n",
      "Too low\n",
      "Too low\n",
      "Too low\n",
      "Too low\n",
      "Too low\n",
      "Too low\n",
      "Too low\n",
      "Too low\n",
      "Correct!\n"
     ]
    }
   ],
   "source": [
    "import random\n",
    "target = random.randint(1, 100)\n",
    "while True:\n",
    "    guess = int(input('Guess the number (1-100): '))\n",
    "    if guess < target:\n",
    "        print('Too low')\n",
    "        continue\n",
    "    elif guess > target:\n",
    "        print('Too high')\n",
    "        continue\n",
    "    else:\n",
    "        print('Correct!')\n",
    "        break\n"
   ]
  },
  {
   "cell_type": "markdown",
   "id": "b514327f",
   "metadata": {},
   "source": [
    "## 103. Vowel Counter\n",
    "\n",
    "**Question:** Count vowels in string using continue to skip non-vowels.\n",
    "\n",
    "**Explanation:** Iterate and increment for vowels.\n"
   ]
  },
  {
   "cell_type": "code",
   "execution_count": 90,
   "id": "cf495aeb",
   "metadata": {},
   "outputs": [
    {
     "name": "stdout",
     "output_type": "stream",
     "text": [
      "humayan\n",
      "Number of vowels: 3\n"
     ]
    }
   ],
   "source": [
    "s = input('Enter a string: ').lower()\n",
    "print(s)\n",
    "count = 0\n",
    "for ch in s:\n",
    "    if ch not in 'aeiou':\n",
    "        continue\n",
    "    count += 1\n",
    "print('Number of vowels:', count)\n"
   ]
  },
  {
   "cell_type": "markdown",
   "id": "f0ed82fb",
   "metadata": {},
   "source": [
    "## 104. Unique Characters\n",
    "\n",
    "**Question:** Check if a string has all unique characters; break when duplicate found.\n",
    "\n",
    "**Explanation:** Use set to track seen characters.\n"
   ]
  },
  {
   "cell_type": "code",
   "execution_count": 92,
   "id": "fa82718a",
   "metadata": {},
   "outputs": [
    {
     "name": "stdout",
     "output_type": "stream",
     "text": [
      "humayan\n",
      "Not unique\n"
     ]
    }
   ],
   "source": [
    "s = input('Enter a string: ')\n",
    "print(s)\n",
    "seen = set()\n",
    "for ch in s:\n",
    "    if ch in seen:\n",
    "        print('Not unique')\n",
    "        break\n",
    "    seen.add(ch)\n",
    "else:\n",
    "    print('All characters are unique')\n"
   ]
  },
  {
   "cell_type": "markdown",
   "id": "f6f4b7df",
   "metadata": {},
   "source": [
    "## 105. Factorial Function\n",
    "\n",
    "**Question:** Define factorial(n) returning n! recursively or iteratively.\n",
    "\n",
    "**Explanation:** Function returns factorial; test with input.\n"
   ]
  },
  {
   "cell_type": "code",
   "execution_count": 94,
   "id": "4b8ee638",
   "metadata": {},
   "outputs": [
    {
     "name": "stdout",
     "output_type": "stream",
     "text": [
      "2\n",
      "Factorial: 2\n"
     ]
    }
   ],
   "source": [
    "def factorial(n: int) -> int:\n",
    "    if n < 0:\n",
    "        raise ValueError('Negative not allowed')\n",
    "    res = 1\n",
    "    for i in range(1, n+1):\n",
    "        res *= i\n",
    "    return res\n",
    "\n",
    "n = int(input('Enter non-negative integer: '))\n",
    "print(n)\n",
    "print('Factorial:', factorial(n))\n"
   ]
  },
  {
   "cell_type": "markdown",
   "id": "6e2e137a",
   "metadata": {},
   "source": [
    "## 106. Palindrome Function\n",
    "\n",
    "**Question:** Define is_palindrome(s) returning True/False.\n",
    "\n",
    "**Explanation:** Use cleaned string and compare to reverse.\n"
   ]
  },
  {
   "cell_type": "code",
   "execution_count": 95,
   "id": "3ac11dc6",
   "metadata": {},
   "outputs": [
    {
     "name": "stdout",
     "output_type": "stream",
     "text": [
      "humayan\n",
      "False\n"
     ]
    }
   ],
   "source": [
    "def is_palindrome(s: str) -> bool:\n",
    "    s_clean = ''.join(ch.lower() for ch in s if ch.isalnum())\n",
    "    return s_clean == s_clean[::-1]\n",
    "\n",
    "s = input('Enter string: ')\n",
    "print(s)\n",
    "print(is_palindrome(s))\n"
   ]
  },
  {
   "cell_type": "markdown",
   "id": "f36c30c7",
   "metadata": {},
   "source": [
    "## 107. Even or Odd Function\n",
    "\n",
    "**Question:** Define even_or_odd(n) returning 'Even' or 'Odd'.\n",
    "\n",
    "**Explanation:** Check n%2.\n"
   ]
  },
  {
   "cell_type": "code",
   "execution_count": 96,
   "id": "c7eb1123",
   "metadata": {},
   "outputs": [
    {
     "name": "stdout",
     "output_type": "stream",
     "text": [
      "2\n",
      "Even\n"
     ]
    }
   ],
   "source": [
    "def even_or_odd(n: int) -> str:\n",
    "    return 'Even' if n % 2 == 0 else 'Odd'\n",
    "\n",
    "n = int(input('Enter integer: '))\n",
    "print(n)\n",
    "print(even_or_odd(n))\n"
   ]
  },
  {
   "cell_type": "markdown",
   "id": "cfb222a3",
   "metadata": {},
   "source": [
    "## 108. List Sum Calculator Function\n",
    "\n",
    "**Question:** Define list_sum(lst) returning sum.\n",
    "\n",
    "**Explanation:** Use loop or built-in sum.\n"
   ]
  },
  {
   "cell_type": "code",
   "execution_count": 97,
   "id": "566b7088",
   "metadata": {},
   "outputs": [
    {
     "name": "stdout",
     "output_type": "stream",
     "text": [
      "[1, 2, 3, 4]\n",
      "Sum = 10\n"
     ]
    }
   ],
   "source": [
    "def list_sum(lst: list) -> int:\n",
    "    total = 0\n",
    "    for v in lst:\n",
    "        total += v\n",
    "    return total\n",
    "\n",
    "arr = [int(x) for x in input('Enter integers separated by space: ').split()]\n",
    "print(arr)\n",
    "print('Sum =', list_sum(arr))\n"
   ]
  },
  {
   "cell_type": "markdown",
   "id": "fa300a0f",
   "metadata": {},
   "source": [
    "## 109. GCD Calculator\n",
    "\n",
    "**Question:** Define gcd(a,b) using Euclidean algorithm.\n",
    "\n",
    "**Explanation:** Iterative or recursive Euclid.\n"
   ]
  },
  {
   "cell_type": "code",
   "execution_count": 99,
   "id": "1d90516f",
   "metadata": {},
   "outputs": [
    {
     "name": "stdout",
     "output_type": "stream",
     "text": [
      "5\n",
      "2\n",
      "GCD = 1\n"
     ]
    }
   ],
   "source": [
    "def gcd(a: int, b: int) -> int:\n",
    "    a, b = abs(a), abs(b)\n",
    "    while b:\n",
    "        a, b = b, a % b\n",
    "    return a\n",
    "\n",
    "x = int(input('Enter first integer: '))\n",
    "y = int(input('Enter second integer: '))\n",
    "print(x)\n",
    "print(y)\n",
    "print('GCD =', gcd(x, y))\n"
   ]
  },
  {
   "cell_type": "markdown",
   "id": "0c184a08",
   "metadata": {},
   "source": [
    "## 110. Leap Year Function\n",
    "\n",
    "**Question:** Define is_leap_year(year) returning True/False.\n",
    "\n",
    "**Explanation:** Use leap year rules.\n"
   ]
  },
  {
   "cell_type": "code",
   "execution_count": 100,
   "id": "c37d80f2",
   "metadata": {},
   "outputs": [
    {
     "name": "stdout",
     "output_type": "stream",
     "text": [
      "2025\n",
      "False\n"
     ]
    }
   ],
   "source": [
    "def is_leap_year(year: int) -> bool:\n",
    "    return (year % 4 == 0 and year % 100 != 0) or (year % 400 == 0)\n",
    "\n",
    "y = int(input('Enter year: '))\n",
    "print(y)\n",
    "print(is_leap_year(y))\n"
   ]
  },
  {
   "cell_type": "markdown",
   "id": "49cce4ab",
   "metadata": {},
   "source": [
    "## 111. Math Operations (nested functions)\n",
    "\n",
    "**Question:** math_operations(nums, op) where op in add/subtract/multiply/divide\n",
    "\n",
    "**Explanation:** Define inner functions for each operation and call based on op.\n"
   ]
  },
  {
   "cell_type": "code",
   "execution_count": 104,
   "id": "fecd0fc2",
   "metadata": {},
   "outputs": [
    {
     "name": "stdout",
     "output_type": "stream",
     "text": [
      "a is 4.0\n",
      "b is 3.0\n",
      "c is 4.0\n",
      "Result: 11.0\n"
     ]
    }
   ],
   "source": [
    "def math_operations(a, b, c, op):\n",
    "    def add():\n",
    "        return a + b + c\n",
    "    def sub():\n",
    "        return a - b - c\n",
    "    def mul():\n",
    "        return a * b * c\n",
    "    def div():\n",
    "        return (a / b / c) if (b != 0 and c != 0) else None\n",
    "    ops = {'add': add, 'subtract': sub, 'multiply': mul, 'divide': div}\n",
    "    func = ops.get(op)\n",
    "    return func() if func else None\n",
    "\n",
    "a = float(input('a: '))\n",
    "b = float(input('b: '))\n",
    "c = float(input('c: '))\n",
    "print(f'a is {a}')\n",
    "print(f'b is {b}')\n",
    "print(f'c is {c}')\n",
    "op = input('Operation (add/subtract/multiply/divide): ')\n",
    "print('Result:', math_operations(a, b, c, op))\n"
   ]
  },
  {
   "cell_type": "markdown",
   "id": "90f8a7e9",
   "metadata": {},
   "source": [
    "## 112. Greeting Generator (nested)\n",
    "\n",
    "**Question:** Return a greeting using nested function to format name.\n",
    "\n",
    "**Explanation:** Inner function builds greeting string.\n"
   ]
  },
  {
   "cell_type": "code",
   "execution_count": 105,
   "id": "8b2afdaa",
   "metadata": {},
   "outputs": [
    {
     "name": "stdout",
     "output_type": "stream",
     "text": [
      "humayan\n",
      "Hello, humayan! How are you today?\n"
     ]
    }
   ],
   "source": [
    "def greeting_generator(name):\n",
    "    def greet():\n",
    "        return f'Hello, {name}! How are you today?'\n",
    "    return greet()\n",
    "\n",
    "name = input('Enter name: ')\n",
    "print(name)\n",
    "print(greeting_generator(name))\n"
   ]
  },
  {
   "cell_type": "markdown",
   "id": "40c6cea9",
   "metadata": {},
   "source": [
    "## 113. Temperature Converter (nested)\n",
    "\n",
    "**Question:** Nested functions to convert between C and F.\n",
    "\n",
    "**Explanation:** Inner functions handle conversions and outer selects.\n"
   ]
  },
  {
   "cell_type": "code",
   "execution_count": null,
   "id": "40e9338f",
   "metadata": {},
   "outputs": [
    {
     "name": "stdout",
     "output_type": "stream",
     "text": [
      "20.0\n",
      "c\n",
      "Converted value: 68.0\n"
     ]
    }
   ],
   "source": [
    "def temperature_converter(value, scale):\n",
    "    def c_to_f(c):\n",
    "        return c * 9/5 + 32\n",
    "    def f_to_c(f):\n",
    "        return (f - 32) * 5/9\n",
    "    if scale == 'C':\n",
    "        return c_to_f(value)\n",
    "    elif scale == 'F':\n",
    "        return f_to_c(value)\n",
    "    else:\n",
    "        return None\n",
    "\n",
    "val = float(input('Enter temperature value: '))\n",
    "print(val)\n",
    "scale = input(\"Enter scale (C for Celsius input, F for Fahrenheit input): \")\n",
    "print(scale)\n",
    "res = temperature_converter(val, scale.upper())\n",
    "print('Converted value:', res)\n"
   ]
  },
  {
   "cell_type": "markdown",
   "id": "09e5a8da",
   "metadata": {},
   "source": [
    "## 114. Recursive Factorial\n",
    "\n",
    "**Question:** Recursive factorial function.\n",
    "\n",
    "**Explanation:** Base case 0 or 1 returns 1; else n*factorial(n-1).\n"
   ]
  },
  {
   "cell_type": "code",
   "execution_count": 111,
   "id": "da1347a1",
   "metadata": {},
   "outputs": [
    {
     "name": "stdout",
     "output_type": "stream",
     "text": [
      "2\n",
      "Factorial (recursive): 2\n"
     ]
    }
   ],
   "source": [
    "def factorial_rec(n: int) -> int:\n",
    "    if n < 0:\n",
    "        raise ValueError('Negative not allowed')\n",
    "    if n in (0, 1):\n",
    "        return 1\n",
    "    return n * factorial_rec(n-1)\n",
    "\n",
    "n = int(input('Enter non-negative integer: '))\n",
    "print(n)\n",
    "print('Factorial (recursive):', factorial_rec(n))\n"
   ]
  },
  {
   "cell_type": "markdown",
   "id": "e33a9640",
   "metadata": {},
   "source": [
    "## 115. Recursive Fibonacci\n",
    "\n",
    "**Question:** Return nth Fibonacci number recursively.\n",
    "\n",
    "**Explanation:** Use base cases F(0)=0, F(1)=1 else recurse.\n"
   ]
  },
  {
   "cell_type": "code",
   "execution_count": 112,
   "id": "07f3d509",
   "metadata": {},
   "outputs": [
    {
     "name": "stdout",
     "output_type": "stream",
     "text": [
      "2\n",
      "Fibonacci number F(2) = 1\n"
     ]
    }
   ],
   "source": [
    "def fibonacci_rec(n: int) -> int:\n",
    "    if n == 0:\n",
    "        return 0\n",
    "    if n == 1:\n",
    "        return 1\n",
    "    return fibonacci_rec(n-1) + fibonacci_rec(n-2)\n",
    "\n",
    "n = int(input('Enter n (non-negative integer): '))\n",
    "print(n)\n",
    "print(f'Fibonacci number F({n}) =', fibonacci_rec(n))\n"
   ]
  },
  {
   "cell_type": "markdown",
   "id": "9a43221c",
   "metadata": {},
   "source": [
    "## 116. Sum of Digits (recursion)\n",
    "\n",
    "**Question:** Return sum of digits using recursion.\n",
    "\n",
    "**Explanation:** Base case single digit returns itself; else digit + recurse.\n"
   ]
  },
  {
   "cell_type": "code",
   "execution_count": 113,
   "id": "ed54f834",
   "metadata": {},
   "outputs": [
    {
     "name": "stdout",
     "output_type": "stream",
     "text": [
      "2\n",
      "Sum of digits: 2\n"
     ]
    }
   ],
   "source": [
    "def sum_of_digits(n: int) -> int:\n",
    "    n = abs(n)\n",
    "    if n < 10:\n",
    "        return n\n",
    "    return n % 10 + sum_of_digits(n // 10)\n",
    "\n",
    "n = int(input('Enter integer: '))\n",
    "print(n)\n",
    "print('Sum of digits:', sum_of_digits(n))\n"
   ]
  },
  {
   "cell_type": "markdown",
   "id": "4e2a7bc2",
   "metadata": {},
   "source": [
    "## 117. Binary Search (recursive)\n",
    "\n",
    "**Question:** Recursive binary search on sorted list.\n",
    "\n",
    "**Explanation:** Return index or -1 if not found.\n"
   ]
  },
  {
   "cell_type": "code",
   "execution_count": 114,
   "id": "89a28629",
   "metadata": {},
   "outputs": [
    {
     "name": "stdout",
     "output_type": "stream",
     "text": [
      "[1, 2, 3, 4]\n",
      "2\n",
      "Index: 1\n"
     ]
    }
   ],
   "source": [
    "def binary_search(arr, target, left, right):\n",
    "    if left > right:\n",
    "        return -1\n",
    "    mid = (left + right) // 2\n",
    "    if arr[mid] == target:\n",
    "        return mid\n",
    "    elif arr[mid] < target:\n",
    "        return binary_search(arr, target, mid+1, right)\n",
    "    else:\n",
    "        return binary_search(arr, target, left, mid-1)\n",
    "\n",
    "arr = [int(x) for x in input('Enter sorted integers separated by space: ').split()]\n",
    "print(arr)\n",
    "t = int(input('Enter target: '))\n",
    "print(t)\n",
    "print('Index:', binary_search(arr, t, 0, len(arr)-1))\n"
   ]
  },
  {
   "cell_type": "markdown",
   "id": "2f1ee461",
   "metadata": {},
   "source": [
    "## 118. Power Calculation (recursion)\n",
    "\n",
    "**Question:** Compute base**exp recursively.\n",
    "\n",
    "**Explanation:** Use exp==0 returns1, else base*power(base,exp-1).\n"
   ]
  },
  {
   "cell_type": "code",
   "execution_count": 117,
   "id": "5ae52c46",
   "metadata": {},
   "outputs": [
    {
     "name": "stdout",
     "output_type": "stream",
     "text": [
      "10\n",
      "2\n",
      "Result: 100\n"
     ]
    }
   ],
   "source": [
    "def power(base: int, exp: int) -> int:\n",
    "    if exp < 0:\n",
    "        return 1 / power(base, -exp)\n",
    "    if exp == 0:\n",
    "        return 1\n",
    "    return base * power(base, exp-1)\n",
    "\n",
    "b = int(input('Enter base: '))\n",
    "print(b)\n",
    "e = int(input('Enter exponent (integer): '))\n",
    "print(e)\n",
    "print('Result:', power(b, e))\n"
   ]
  }
 ],
 "metadata": {
  "kernelspec": {
   "display_name": "Python 3",
   "language": "python",
   "name": "python3"
  },
  "language_info": {
   "codemirror_mode": {
    "name": "ipython",
    "version": 3
   },
   "file_extension": ".py",
   "mimetype": "text/x-python",
   "name": "python",
   "nbconvert_exporter": "python",
   "pygments_lexer": "ipython3",
   "version": "3.10.11"
  }
 },
 "nbformat": 4,
 "nbformat_minor": 5
}
